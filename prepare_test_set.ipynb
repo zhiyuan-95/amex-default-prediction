{
 "cells": [
  {
   "cell_type": "code",
   "execution_count": 2,
   "id": "784d999f",
   "metadata": {},
   "outputs": [],
   "source": [
    "import numpy as np\n",
    "import pandas as pd\n",
    "import time\n",
    "import csv"
   ]
  },
  {
   "cell_type": "code",
   "execution_count": 3,
   "id": "d13ff1eb",
   "metadata": {},
   "outputs": [],
   "source": [
    "TEMP_test = pd.read_csv(r\"C:\\Users\\johnk\\OneDrive\\Desktop\\project\\python project\\kaggle\\amex-default-prediction\\test\\test_data_0.csv\")"
   ]
  },
  {
   "cell_type": "code",
   "execution_count": 4,
   "id": "c7f20a61",
   "metadata": {},
   "outputs": [],
   "source": [
    "old_column = TEMP_test.columns\n",
    "des = TEMP_test.describe()[1:]\n",
    "des_col = des.columns\n",
    "des_idx = des.index\n",
    "new_column = ['customer_ID']\n",
    "for x in des_idx:\n",
    "    for y in des_col:\n",
    "        new_column.append(y+\"_\"+x)"
   ]
  },
  {
   "cell_type": "code",
   "execution_count": null,
   "id": "4d4f7056",
   "metadata": {},
   "outputs": [],
   "source": [
    "for x in range(45,58):\n",
    "    _10_files= []\n",
    "    for y in range(1,11):\n",
    "        DF = pd.read_csv(r\"C:\\Users\\johnk\\OneDrive\\Desktop\\project\\python project\\kaggle\\amex-default-prediction\\test\\test_data_{0}.csv\".format(x*10+y-1))\n",
    "        DF.columns = old_column\n",
    "        _10_files.append(DF)\n",
    "    df = pd.concat(_10_files, axis=0)\n",
    "    customers = df.iloc[:,0].value_counts().index\n",
    "    new_features = []\n",
    "    itr= 0\n",
    "    start_time = time.time()\n",
    "    for z in customers:\n",
    "        i = df.loc[df['customer_ID']==z]\n",
    "        j = i.iloc[:,2:]\n",
    "        des = j.describe().iloc[1:]\n",
    "        np_des = np.array(des).reshape(1302)\n",
    "        new_features.append(np_des)\n",
    "        itr+=1\n",
    "        if itr%1000==0:\n",
    "            print(itr, end=' - ')\n",
    "            print(\" %s second \" %(time.time()-start_time))\n",
    "            start_time = time.time()\n",
    "    customer_id = pd.DataFrame(customers)\n",
    "    features_created = pd.DataFrame(new_features) \n",
    "    Data = pd.concat([customer_id,features_created], axis=1)\n",
    "    Data.columns = new_column\n",
    "    Data.to_csv(r'C:\\Users\\johnk\\OneDrive\\Desktop\\project\\python project\\kaggle\\amex-default-prediction\\transformed_test\\test_{0}.csv'.format(x), index=False)\n",
    "    print(x)"
   ]
  },
  {
   "cell_type": "code",
   "execution_count": 6,
   "id": "000b7cc1",
   "metadata": {},
   "outputs": [
    {
     "name": "stdout",
     "output_type": "stream",
     "text": [
      "1000 -  242.99830842018127 second \n",
      "2000 -  323.4536910057068 second \n",
      "3000 -  289.4528534412384 second \n",
      "4000 -  290.9707684516907 second \n",
      "5000 -  294.97206950187683 second \n",
      "6000 -  293.7045314311981 second \n",
      "7000 -  290.1637964248657 second \n",
      "8000 -  291.85508394241333 second \n",
      "9000 -  317.19402050971985 second \n",
      "10000 -  293.7863566875458 second \n",
      "11000 -  294.039653301239 second \n",
      "12000 -  287.1930685043335 second \n",
      "13000 -  297.24156975746155 second \n"
     ]
    }
   ],
   "source": [
    "_10_files= []\n",
    "for y in range(560,569):\n",
    "    DF = pd.read_csv(r\"C:\\Users\\johnk\\OneDrive\\Desktop\\project\\python project\\kaggle\\amex-default-prediction\\test\\test_data_{0}.csv\".format(y))\n",
    "    DF.columns = old_column\n",
    "    _10_files.append(DF)\n",
    "df = pd.concat(_10_files, axis=0)\n",
    "customers = df.iloc[:,0].value_counts().index\n",
    "new_features = []\n",
    "itr= 0\n",
    "start_time = time.time()\n",
    "for z in customers:\n",
    "    i = df.loc[df['customer_ID']==z]\n",
    "    j = i.iloc[:,2:]\n",
    "    des = j.describe().iloc[1:]\n",
    "    np_des = np.array(des).reshape(1302)\n",
    "    new_features.append(np_des)\n",
    "    itr+=1\n",
    "    if itr%1000==0:\n",
    "        print(itr, end=' - ')\n",
    "        print(\" %s second \" %(time.time()-start_time))\n",
    "        start_time = time.time()\n",
    "customer_id = pd.DataFrame(customers)\n",
    "features_created = pd.DataFrame(new_features) \n",
    "Data = pd.concat([customer_id,features_created], axis=1)\n",
    "Data.columns = new_column\n",
    "Data.to_csv(r'C:\\Users\\johnk\\OneDrive\\Desktop\\project\\python project\\kaggle\\amex-default-prediction\\transformed_test\\test_56.csv',index = False)"
   ]
  },
  {
   "cell_type": "code",
   "execution_count": 7,
   "id": "a1c3462e",
   "metadata": {},
   "outputs": [],
   "source": [
    "b = pd.read_csv(r\"C:\\Users\\johnk\\OneDrive\\Desktop\\project\\python project\\kaggle\\amex-default-prediction\\transformed_test\\test_56.csv\")"
   ]
  },
  {
   "cell_type": "code",
   "execution_count": 15,
   "id": "88ff8873",
   "metadata": {},
   "outputs": [],
   "source": [
    "c = b.iloc[:,1:]"
   ]
  },
  {
   "cell_type": "code",
   "execution_count": 18,
   "id": "a9225405",
   "metadata": {},
   "outputs": [],
   "source": [
    "c.to_csv(r'C:\\Users\\johnk\\OneDrive\\Desktop\\project\\python project\\kaggle\\amex-default-prediction\\transformed_test\\test_56.csv',index = False)"
   ]
  },
  {
   "cell_type": "code",
   "execution_count": null,
   "id": "898f296e",
   "metadata": {},
   "outputs": [],
   "source": []
  }
 ],
 "metadata": {
  "kernelspec": {
   "display_name": "Python 3 (ipykernel)",
   "language": "python",
   "name": "python3"
  },
  "language_info": {
   "codemirror_mode": {
    "name": "ipython",
    "version": 3
   },
   "file_extension": ".py",
   "mimetype": "text/x-python",
   "name": "python",
   "nbconvert_exporter": "python",
   "pygments_lexer": "ipython3",
   "version": "3.10.5"
  }
 },
 "nbformat": 4,
 "nbformat_minor": 5
}
