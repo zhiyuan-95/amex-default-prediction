{
 "cells": [
  {
   "cell_type": "code",
   "execution_count": 1,
   "id": "5db79580",
   "metadata": {},
   "outputs": [],
   "source": [
    "import pandas as pd\n",
    "import numpy as np\n",
    "from sklearn.model_selection import train_test_split\n",
    "from sklearn.ensemble import GradientBoostingClassifier\n",
    "from sklearn.ensemble import RandomForestClassifier\n",
    "from sklearn.linear_model import LogisticRegression\n",
    "from sklearn.metrics import roc_auc_score \n",
    "import time\n",
    "import csv"
   ]
  },
  {
   "cell_type": "code",
   "execution_count": 2,
   "id": "a4b4e047",
   "metadata": {},
   "outputs": [],
   "source": [
    "import matplotlib.pyplot as plt\n",
    "import tensorflow as tf"
   ]
  },
  {
   "cell_type": "code",
   "execution_count": 3,
   "id": "0789b4d3",
   "metadata": {},
   "outputs": [],
   "source": [
    "def amex_metric(y_true: pd.DataFrame, y_pred: pd.DataFrame) -> float:\n",
    "\n",
    "    def top_four_percent_captured(y_true: pd.DataFrame, y_pred: pd.DataFrame) -> float:\n",
    "        df = (pd.concat([y_true, y_pred], axis='columns')\n",
    "              .sort_values('prediction', ascending=False))\n",
    "        df['weight'] = df['target'].apply(lambda x: 20 if x==0 else 1)\n",
    "        four_pct_cutoff = int(0.04 * df['weight'].sum())\n",
    "        df['weight_cumsum'] = df['weight'].cumsum()\n",
    "        df_cutoff = df.loc[df['weight_cumsum'] <= four_pct_cutoff]\n",
    "        return (df_cutoff['target'] == 1).sum() / (df['target'] == 1).sum()\n",
    "        \n",
    "    def weighted_gini(y_true: pd.DataFrame, y_pred: pd.DataFrame) -> float:\n",
    "        df = (pd.concat([y_true, y_pred], axis='columns')\n",
    "              .sort_values('prediction', ascending=False))\n",
    "        df['weight'] = df['target'].apply(lambda x: 20 if x==0 else 1)\n",
    "        df['random'] = (df['weight'] / df['weight'].sum()).cumsum()\n",
    "        total_pos = (df['target'] * df['weight']).sum()\n",
    "        df['cum_pos_found'] = (df['target'] * df['weight']).cumsum()\n",
    "        df['lorentz'] = df['cum_pos_found'] / total_pos\n",
    "        df['gini'] = (df['lorentz'] - df['random']) * df['weight']\n",
    "        return df['gini'].sum()\n",
    "\n",
    "    def normalized_weighted_gini(y_true: pd.DataFrame, y_pred: pd.DataFrame) -> float:\n",
    "        y_true_pred = y_true.rename(columns={'target': 'prediction'})\n",
    "        return weighted_gini(y_true, y_pred) / weighted_gini(y_true, y_true_pred)\n",
    "\n",
    "    g = normalized_weighted_gini(y_true, y_pred)\n",
    "    d = top_four_percent_captured(y_true, y_pred)\n",
    "\n",
    "    return 0.5 * (g + d)"
   ]
  },
  {
   "cell_type": "code",
   "execution_count": 4,
   "id": "a0abbf7b",
   "metadata": {},
   "outputs": [],
   "source": [
    "def get_data(a,b,n):\n",
    "    shuffled_indices = np.random.permutation([x for x in range(a,b)])\n",
    "    file = []\n",
    "    for x in shuffled_indices[:n]:\n",
    "        file.append(pd.read_csv(r'C:\\Users\\johnk\\OneDrive\\Desktop\\project\\python project\\kaggle\\amex-default-prediction\\new_train\\train_{0}.csv'.format(x)))\n",
    "    data_set = pd.concat(file, axis = 0)\n",
    "    data_set.index = [x for x in range(data_set.shape[0])]\n",
    "    feature = data_set.iloc[:, 1:-1]\n",
    "    label = data_set['target']\n",
    "    return feature, pd.DataFrame(label, columns=['target'])"
   ]
  },
  {
   "cell_type": "code",
   "execution_count": 5,
   "id": "7aa7065a",
   "metadata": {},
   "outputs": [],
   "source": [
    "def get_balanced_data(a,b,n,r=1):\n",
    "    shuffled_indices_0 = np.random.permutation([x for x in range(a,b)])\n",
    "    file = []\n",
    "    for x in shuffled_indices_0[:n]:\n",
    "        file.append(pd.read_csv(r'C:\\Users\\johnk\\OneDrive\\Desktop\\project\\python project\\kaggle\\amex-default-prediction\\new_train\\train_{0}.csv'.format(x)))\n",
    "    data_set = pd.concat(file, axis = 0)\n",
    "    data_set.index = [x for x in range(data_set.shape[0])]\n",
    "    defualted = data_set.loc[data_set['target']==1]\n",
    "    undefualted = data_set.loc[data_set['target']==0]\n",
    "    shuffled_indices_1 = np.random.permutation(undefualted.shape[0])[:defualted.shape[0]*r]\n",
    "    pick_undefualted = undefualted.iloc[shuffled_indices_1]\n",
    "    temp = pd.concat([defualted, pick_undefualted], axis = 0)\n",
    "    shuffled_indices_2 = np.random.permutation(temp.shape[0])\n",
    "    df = temp.iloc[shuffled_indices_2]\n",
    "    df.index = [x for x in range(len(df))]\n",
    "    feature = df.iloc[:,1:-1]\n",
    "    label = pd.DataFrame(df['target'])\n",
    "    return feature, label"
   ]
  },
  {
   "cell_type": "code",
   "execution_count": 6,
   "id": "10c9a879",
   "metadata": {},
   "outputs": [],
   "source": [
    "def zero_mean(df):\n",
    "    for x in range(df.shape[1]):\n",
    "        m = df[:,x].mean()\n",
    "        df[:,x]-=m\n",
    "    return df"
   ]
  },
  {
   "cell_type": "code",
   "execution_count": 7,
   "id": "e9b812c0",
   "metadata": {},
   "outputs": [],
   "source": [
    "def fillna(df):\n",
    "    data = df\n",
    "    for x in data.columns:\n",
    "        data[x]=data[x].fillna(data[x].mean())\n",
    "    return data"
   ]
  },
  {
   "cell_type": "code",
   "execution_count": 8,
   "id": "7580a3c1",
   "metadata": {},
   "outputs": [],
   "source": [
    "from sklearn.preprocessing import OneHotEncoder"
   ]
  },
  {
   "cell_type": "code",
   "execution_count": 11,
   "id": "e09ad9d5",
   "metadata": {},
   "outputs": [],
   "source": [
    "OHE = OneHotEncoder()"
   ]
  },
  {
   "cell_type": "code",
   "execution_count": 12,
   "id": "1336618d",
   "metadata": {},
   "outputs": [],
   "source": [
    "feature_train, label_train = get_balanced_data(1,31,30)\n",
    "Y_train=OHE.fit_transform(label_train)\n",
    "Y_train=Y_train.toarray()\n",
    "X_train = np.array(feature_train)\n",
    "X_train = zero_mean(X_train)"
   ]
  },
  {
   "cell_type": "code",
   "execution_count": 13,
   "id": "f1e8d0cf",
   "metadata": {},
   "outputs": [],
   "source": [
    "label_train = np.array(label_train)"
   ]
  },
  {
   "cell_type": "code",
   "execution_count": 14,
   "id": "736e3175",
   "metadata": {},
   "outputs": [],
   "source": [
    "x_test, y_test = get_data(41,51,10)\n",
    "y_test = OHE.transform(y_test)\n",
    "y_test = y_test.toarray()\n",
    "x_test = np.array(x_test)\n",
    "x_test = zero_mean(x_test)"
   ]
  },
  {
   "cell_type": "code",
   "execution_count": 15,
   "id": "e4f5364c",
   "metadata": {},
   "outputs": [],
   "source": [
    "feature_val, label_val = get_balanced_data(31,41,10)\n",
    "y_val = OHE.transform(label_val)\n",
    "y_val = y_val.toarray()\n",
    "x_val = np.array(feature_val)\n",
    "x_val = zero_mean(x_val)"
   ]
  },
  {
   "cell_type": "code",
   "execution_count": 16,
   "id": "adde7ad4",
   "metadata": {},
   "outputs": [],
   "source": [
    "label_val = np.array(label_val)"
   ]
  },
  {
   "cell_type": "code",
   "execution_count": 117,
   "id": "87a48d67",
   "metadata": {},
   "outputs": [],
   "source": [
    "model = tf.keras.models.Sequential([\n",
    "    tf.keras.layers.Flatten(input_shape=(1302,)),\n",
    "    tf.keras.layers.BatchNormalization(),\n",
    "    tf.keras.layers.Dense(935,activation='elu'),\n",
    "    tf.keras.layers.BatchNormalization(),\n",
    "    tf.keras.layers.Dense(85,activation='sigmoid'),\n",
    "    tf.keras.layers.Dense(2, activation='softmax')])"
   ]
  },
  {
   "cell_type": "code",
   "execution_count": 118,
   "id": "2ea092f0",
   "metadata": {},
   "outputs": [],
   "source": [
    "model.compile(optimizer=tf.keras.optimizers.Adam(learning_rate=2e-5),\n",
    "              metrics=\"accuracy\",\n",
    "              loss='sparse_categorical_crossentropy')"
   ]
  },
  {
   "cell_type": "code",
   "execution_count": 119,
   "id": "6da87358",
   "metadata": {},
   "outputs": [
    {
     "name": "stdout",
     "output_type": "stream",
     "text": [
      "Epoch 1/50\n",
      "239/239 [==============================] - 14s 57ms/step - loss: 0.3337 - accuracy: 0.8563 - val_loss: 0.3087 - val_accuracy: 0.8761\n",
      "Epoch 2/50\n",
      "239/239 [==============================] - 13s 54ms/step - loss: 0.2843 - accuracy: 0.8813 - val_loss: 0.2840 - val_accuracy: 0.8810\n",
      "Epoch 3/50\n",
      "239/239 [==============================] - 13s 52ms/step - loss: 0.2774 - accuracy: 0.8843 - val_loss: 0.2786 - val_accuracy: 0.8824\n",
      "Epoch 4/50\n",
      "239/239 [==============================] - 12s 51ms/step - loss: 0.2735 - accuracy: 0.8861 - val_loss: 0.2765 - val_accuracy: 0.8837\n",
      "Epoch 5/50\n",
      "239/239 [==============================] - 12s 51ms/step - loss: 0.2701 - accuracy: 0.8867 - val_loss: 0.2745 - val_accuracy: 0.8843\n",
      "Epoch 6/50\n",
      "239/239 [==============================] - 12s 52ms/step - loss: 0.2678 - accuracy: 0.8886 - val_loss: 0.2735 - val_accuracy: 0.8841\n",
      "Epoch 7/50\n",
      "239/239 [==============================] - 12s 50ms/step - loss: 0.2664 - accuracy: 0.8886 - val_loss: 0.2723 - val_accuracy: 0.8852\n",
      "Epoch 8/50\n",
      "239/239 [==============================] - 12s 51ms/step - loss: 0.2644 - accuracy: 0.8895 - val_loss: 0.2717 - val_accuracy: 0.8849\n",
      "Epoch 9/50\n",
      "239/239 [==============================] - 13s 54ms/step - loss: 0.2627 - accuracy: 0.8901 - val_loss: 0.2715 - val_accuracy: 0.8845\n",
      "Epoch 10/50\n",
      "239/239 [==============================] - 13s 54ms/step - loss: 0.2608 - accuracy: 0.8907 - val_loss: 0.2709 - val_accuracy: 0.8851\n",
      "Epoch 11/50\n",
      "239/239 [==============================] - 12s 52ms/step - loss: 0.2600 - accuracy: 0.8912 - val_loss: 0.2704 - val_accuracy: 0.8851\n",
      "Epoch 12/50\n",
      "239/239 [==============================] - 15s 65ms/step - loss: 0.2587 - accuracy: 0.8912 - val_loss: 0.2702 - val_accuracy: 0.8856\n",
      "Epoch 13/50\n",
      "239/239 [==============================] - 17s 72ms/step - loss: 0.2577 - accuracy: 0.8927 - val_loss: 0.2694 - val_accuracy: 0.8858\n",
      "Epoch 14/50\n",
      "239/239 [==============================] - 17s 70ms/step - loss: 0.2559 - accuracy: 0.8933 - val_loss: 0.2698 - val_accuracy: 0.8861\n",
      "Epoch 15/50\n",
      "239/239 [==============================] - 16s 68ms/step - loss: 0.2553 - accuracy: 0.8937 - val_loss: 0.2690 - val_accuracy: 0.8858\n",
      "Epoch 16/50\n",
      "239/239 [==============================] - 19s 79ms/step - loss: 0.2540 - accuracy: 0.8940 - val_loss: 0.2688 - val_accuracy: 0.8859\n",
      "Epoch 17/50\n",
      "239/239 [==============================] - 14s 60ms/step - loss: 0.2532 - accuracy: 0.8947 - val_loss: 0.2684 - val_accuracy: 0.8863\n",
      "Epoch 18/50\n",
      "239/239 [==============================] - 16s 67ms/step - loss: 0.2519 - accuracy: 0.8949 - val_loss: 0.2684 - val_accuracy: 0.8858\n",
      "Epoch 19/50\n",
      "239/239 [==============================] - 17s 71ms/step - loss: 0.2510 - accuracy: 0.8956 - val_loss: 0.2685 - val_accuracy: 0.8859\n",
      "Epoch 20/50\n",
      "239/239 [==============================] - 16s 65ms/step - loss: 0.2497 - accuracy: 0.8957 - val_loss: 0.2681 - val_accuracy: 0.8862\n",
      "Epoch 21/50\n",
      "239/239 [==============================] - 11s 46ms/step - loss: 0.2487 - accuracy: 0.8962 - val_loss: 0.2678 - val_accuracy: 0.8867\n",
      "Epoch 22/50\n",
      "239/239 [==============================] - 10s 42ms/step - loss: 0.2480 - accuracy: 0.8968 - val_loss: 0.2675 - val_accuracy: 0.8862\n",
      "Epoch 23/50\n",
      "239/239 [==============================] - 10s 41ms/step - loss: 0.2471 - accuracy: 0.8970 - val_loss: 0.2676 - val_accuracy: 0.8865\n",
      "Epoch 24/50\n",
      "239/239 [==============================] - 10s 43ms/step - loss: 0.2462 - accuracy: 0.8974 - val_loss: 0.2677 - val_accuracy: 0.8861\n",
      "Epoch 25/50\n",
      "239/239 [==============================] - 10s 41ms/step - loss: 0.2447 - accuracy: 0.8983 - val_loss: 0.2675 - val_accuracy: 0.8860\n",
      "Epoch 26/50\n",
      "239/239 [==============================] - 10s 42ms/step - loss: 0.2439 - accuracy: 0.8990 - val_loss: 0.2674 - val_accuracy: 0.8866\n",
      "Epoch 27/50\n",
      "239/239 [==============================] - 10s 40ms/step - loss: 0.2432 - accuracy: 0.8988 - val_loss: 0.2670 - val_accuracy: 0.8872\n",
      "Epoch 28/50\n",
      "239/239 [==============================] - 10s 41ms/step - loss: 0.2425 - accuracy: 0.8993 - val_loss: 0.2669 - val_accuracy: 0.8870\n",
      "Epoch 29/50\n",
      "239/239 [==============================] - 10s 40ms/step - loss: 0.2413 - accuracy: 0.8998 - val_loss: 0.2670 - val_accuracy: 0.8867\n",
      "Epoch 30/50\n",
      "239/239 [==============================] - 10s 41ms/step - loss: 0.2406 - accuracy: 0.9006 - val_loss: 0.2669 - val_accuracy: 0.8870\n",
      "Epoch 31/50\n",
      "239/239 [==============================] - 10s 41ms/step - loss: 0.2391 - accuracy: 0.9006 - val_loss: 0.2669 - val_accuracy: 0.8870\n",
      "Epoch 32/50\n",
      "239/239 [==============================] - 10s 41ms/step - loss: 0.2386 - accuracy: 0.9012 - val_loss: 0.2678 - val_accuracy: 0.8859\n",
      "Epoch 33/50\n",
      "239/239 [==============================] - 10s 41ms/step - loss: 0.2376 - accuracy: 0.9016 - val_loss: 0.2671 - val_accuracy: 0.8862\n",
      "Epoch 34/50\n",
      "239/239 [==============================] - 10s 42ms/step - loss: 0.2366 - accuracy: 0.9021 - val_loss: 0.2686 - val_accuracy: 0.8865\n",
      "Epoch 35/50\n",
      "239/239 [==============================] - 10s 42ms/step - loss: 0.2356 - accuracy: 0.9023 - val_loss: 0.2671 - val_accuracy: 0.8870\n",
      "Epoch 36/50\n",
      "239/239 [==============================] - 10s 41ms/step - loss: 0.2348 - accuracy: 0.9028 - val_loss: 0.2670 - val_accuracy: 0.8872\n",
      "Epoch 37/50\n",
      "239/239 [==============================] - 10s 42ms/step - loss: 0.2338 - accuracy: 0.9033 - val_loss: 0.2669 - val_accuracy: 0.8871\n",
      "Epoch 38/50\n",
      "239/239 [==============================] - 10s 44ms/step - loss: 0.2329 - accuracy: 0.9036 - val_loss: 0.2676 - val_accuracy: 0.8877\n",
      "Epoch 39/50\n",
      "239/239 [==============================] - 10s 41ms/step - loss: 0.2315 - accuracy: 0.9038 - val_loss: 0.2671 - val_accuracy: 0.8879\n",
      "Epoch 40/50\n",
      "239/239 [==============================] - 10s 42ms/step - loss: 0.2311 - accuracy: 0.9042 - val_loss: 0.2673 - val_accuracy: 0.8875\n",
      "Epoch 41/50\n",
      "239/239 [==============================] - 10s 42ms/step - loss: 0.2299 - accuracy: 0.9054 - val_loss: 0.2671 - val_accuracy: 0.8877\n",
      "Epoch 42/50\n",
      "239/239 [==============================] - 10s 42ms/step - loss: 0.2289 - accuracy: 0.9053 - val_loss: 0.2677 - val_accuracy: 0.8870\n",
      "Epoch 43/50\n",
      "239/239 [==============================] - 10s 42ms/step - loss: 0.2280 - accuracy: 0.9055 - val_loss: 0.2674 - val_accuracy: 0.8873\n",
      "Epoch 44/50\n",
      "239/239 [==============================] - 10s 41ms/step - loss: 0.2272 - accuracy: 0.9067 - val_loss: 0.2683 - val_accuracy: 0.8864\n",
      "Epoch 45/50\n",
      "239/239 [==============================] - 10s 43ms/step - loss: 0.2260 - accuracy: 0.9066 - val_loss: 0.2674 - val_accuracy: 0.8876\n",
      "Epoch 46/50\n",
      "239/239 [==============================] - 10s 44ms/step - loss: 0.2252 - accuracy: 0.9075 - val_loss: 0.2675 - val_accuracy: 0.8874\n",
      "Epoch 47/50\n",
      "239/239 [==============================] - 10s 43ms/step - loss: 0.2240 - accuracy: 0.9084 - val_loss: 0.2686 - val_accuracy: 0.8858\n",
      "Epoch 48/50\n",
      "239/239 [==============================] - 11s 44ms/step - loss: 0.2231 - accuracy: 0.9082 - val_loss: 0.2693 - val_accuracy: 0.8861\n",
      "Epoch 49/50\n",
      "239/239 [==============================] - 10s 43ms/step - loss: 0.2229 - accuracy: 0.9080 - val_loss: 0.2685 - val_accuracy: 0.8875\n",
      "Epoch 50/50\n",
      "239/239 [==============================] - 10s 43ms/step - loss: 0.2212 - accuracy: 0.9091 - val_loss: 0.2680 - val_accuracy: 0.8873\n",
      "Model: \"sequential_26\"\n",
      "_________________________________________________________________\n",
      " Layer (type)                Output Shape              Param #   \n",
      "=================================================================\n",
      " flatten_26 (Flatten)        (None, 1302)              0         \n",
      "                                                                 \n",
      " batch_normalization_52 (Bat  (None, 1302)             5208      \n",
      " chNormalization)                                                \n",
      "                                                                 \n",
      " dense_78 (Dense)            (None, 935)               1218305   \n",
      "                                                                 \n",
      " batch_normalization_53 (Bat  (None, 935)              3740      \n",
      " chNormalization)                                                \n",
      "                                                                 \n",
      " dense_79 (Dense)            (None, 85)                79560     \n",
      "                                                                 \n"
     ]
    },
    {
     "name": "stdout",
     "output_type": "stream",
     "text": [
      " dense_80 (Dense)            (None, 2)                 172       \n",
      "                                                                 \n",
      "=================================================================\n",
      "Total params: 1,306,985\n",
      "Trainable params: 1,302,511\n",
      "Non-trainable params: 4,474\n",
      "_________________________________________________________________\n"
     ]
    }
   ],
   "source": [
    "model.fit(X_train,label_train,\n",
    "                epochs=50,\n",
    "                batch_size=540,\n",
    "                shuffle=True,\n",
    "                validation_data=(x_val,label_val))\n",
    "model.summary()"
   ]
  },
  {
   "cell_type": "code",
   "execution_count": 120,
   "id": "81cbd49e",
   "metadata": {},
   "outputs": [],
   "source": [
    "prediction = model.predict(x_test)[:,1]"
   ]
  },
  {
   "cell_type": "code",
   "execution_count": 121,
   "id": "2ffe1a1e",
   "metadata": {
    "scrolled": true
   },
   "outputs": [
    {
     "data": {
      "text/plain": [
       "0.7579620644031844"
      ]
     },
     "execution_count": 121,
     "metadata": {},
     "output_type": "execute_result"
    }
   ],
   "source": [
    "amex_metric(pd.DataFrame(y_test[:,1], columns=['target']), pd.DataFrame(prediction, columns= ['prediction']))"
   ]
  },
  {
   "cell_type": "code",
   "execution_count": null,
   "id": "b2b32239",
   "metadata": {},
   "outputs": [],
   "source": []
  },
  {
   "cell_type": "markdown",
   "id": "7cd3257c",
   "metadata": {},
   "source": [
    "### output"
   ]
  },
  {
   "cell_type": "code",
   "execution_count": 654,
   "id": "78e55b67",
   "metadata": {},
   "outputs": [
    {
     "name": "stdout",
     "output_type": "stream",
     "text": [
      "0 1 2 3 4 5 6 7 8 9 10 11 12 13 14 15 16 17 18 19 20 21 22 23 24 25 26 27 28 29 30 31 32 33 34 35 36 37 38 39 40 41 42 43 44 45 46 47 48 49 50 51 52 53 54 55 56 "
     ]
    }
   ],
   "source": [
    "f = pd.DataFrame(columns = ['customer_ID','prediction'])\n",
    "f.to_csv('prediction.csv', index = False)\n",
    "for x in range(0,57):\n",
    "    df_test = pd.read_csv(r'C:\\Users\\johnk\\OneDrive\\Desktop\\project\\python project\\kaggle\\amex-default-prediction\\transformed_test\\test_{0}.csv'.format(x))\n",
    "    feature = df_test.iloc[:,1:]\n",
    "    X_test = np.array(fillna(feature))\n",
    "    X_test = zero_mean(X_test)\n",
    "    customer_id = df_test['customer_ID']\n",
    "    prediction = model.predict(X_test)[:,1]\n",
    "    output = pd.DataFrame(columns = ['customer_ID','prediction'])\n",
    "    output['customer_ID'] = customer_id\n",
    "    output['prediction'] = prediction\n",
    "    old_file = pd.read_csv('prediction.csv')\n",
    "    new_file = pd.concat([old_file,output], axis = 0)\n",
    "    new_file.to_csv('prediction.csv', index = False)\n",
    "    print(x, end= ' ')"
   ]
  },
  {
   "cell_type": "code",
   "execution_count": 655,
   "id": "f56e8f43",
   "metadata": {},
   "outputs": [],
   "source": [
    "i = new_file.drop_duplicates(subset='customer_ID')\n",
    "i.to_csv('prediction.csv', index = False)"
   ]
  },
  {
   "cell_type": "code",
   "execution_count": null,
   "id": "de6f477d",
   "metadata": {},
   "outputs": [],
   "source": []
  }
 ],
 "metadata": {
  "kernelspec": {
   "display_name": "Python 3 (ipykernel)",
   "language": "python",
   "name": "python3"
  },
  "language_info": {
   "codemirror_mode": {
    "name": "ipython",
    "version": 3
   },
   "file_extension": ".py",
   "mimetype": "text/x-python",
   "name": "python",
   "nbconvert_exporter": "python",
   "pygments_lexer": "ipython3",
   "version": "3.10.5"
  }
 },
 "nbformat": 4,
 "nbformat_minor": 5
}
