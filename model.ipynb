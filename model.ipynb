{
 "cells": [
  {
   "cell_type": "code",
   "execution_count": 1,
   "id": "ee4c34f9",
   "metadata": {},
   "outputs": [],
   "source": [
    "import pandas as pd\n",
    "import numpy as np\n",
    "from sklearn.model_selection import train_test_split\n",
    "from sklearn.ensemble import AdaBoostClassifier\n",
    "from sklearn.ensemble import GradientBoostingClassifier\n",
    "from sklearn.ensemble import RandomForestClassifier\n",
    "from sklearn.linear_model import LogisticRegression\n",
    "from sklearn.metrics import roc_auc_score\n",
    "import time\n",
    "import csv"
   ]
  },
  {
   "cell_type": "code",
   "execution_count": 2,
   "id": "b126666b",
   "metadata": {},
   "outputs": [],
   "source": [
    "from sklearn.model_selection import KFold\n",
    "def cross_validation(folds, data, labels, error_function, model, **model_args):\n",
    "    kf = KFold(n_splits=folds, random_state=None, shuffle = True)\n",
    "    score = []\n",
    "    y = labels\n",
    "    if model == LogisticRegression:\n",
    "        M = model(max_iter = 20**9)\n",
    "    else:\n",
    "        M = model()\n",
    "    predicted_lable = pd.DataFrame(columns = ['prediction'])\n",
    "    for train_index,test_index in kf.split(data):\n",
    "        x_training_set = data.iloc[train_index]\n",
    "        y_training_set = y.iloc[train_index]\n",
    "        x_test_set = data.iloc[test_index]\n",
    "        y_test_set = y.iloc[test_index]\n",
    "        M.fit(np.array(x_training_set), np.array(y_training_set).T[0])\n",
    "        y_pred = M.predict_proba(np.array(x_test_set))\n",
    "        y_pred = [x[1] for x in y_pred]\n",
    "        score.append(error_function(y_test_set,y_pred)) \n",
    "        print('.',end=' ')\n",
    "    average_error = round(sum(score)/folds,4)\n",
    "    return average_error"
   ]
  },
  {
   "cell_type": "code",
   "execution_count": 3,
   "id": "3d098e8d",
   "metadata": {},
   "outputs": [],
   "source": [
    "def level_1_predictor(t_train,y, model):\n",
    "    leng = int(len(t_train)/2)\n",
    "    t_a, t_b= t_train[:leng], t_train[leng:]\n",
    "    tg_a, tg_b = y[:leng], y[leng:]\n",
    "    if model == LogisticRegression:\n",
    "        m1 = model(max_iter = 20**9)\n",
    "        m2 = model(max_iter = 20**9)\n",
    "    else:\n",
    "        m1 = model()\n",
    "        m2 = model()\n",
    "\n",
    "    m1.fit(t_a,tg_a)\n",
    "    tp_b = [i[1] for i in m1.predict_proba(t_b)]\n",
    "    m2.fit(t_b,tg_b)\n",
    "    tp_a = [i[1] for i in m2.predict_proba(t_a)]\n",
    "    tp = [[x] for x in np.hstack((tp_a,tp_b))]\n",
    "    \n",
    "    return tp"
   ]
  },
  {
   "cell_type": "code",
   "execution_count": 28,
   "id": "a4d92bc4",
   "metadata": {},
   "outputs": [],
   "source": [
    "def retrieve_important_feature(s,m):\n",
    "    file = pd.read_csv('important_l1.csv')\n",
    "    feature_name = file.columns\n",
    "    if m=='G':\n",
    "        importance = file.iloc[0]\n",
    "    if m=='L':\n",
    "        importance = file.iloc[1]\n",
    "    itr = 0\n",
    "    important_feature = []\n",
    "    unimportant_feature = []\n",
    "    for x in importance:\n",
    "        if x>s:\n",
    "            important_feature.append(feature_name[itr])\n",
    "        else:\n",
    "            unimportant_feature.append(feature_name[itr])\n",
    "        itr+=1\n",
    "    return important_feature, unimportant_feature"
   ]
  },
  {
   "cell_type": "code",
   "execution_count": 29,
   "id": "09c94230",
   "metadata": {},
   "outputs": [],
   "source": [
    "def categorize_important_feature(n,m):\n",
    "    important_feature, unimportant_feature = retrieve_important_feature(n,m)\n",
    "    delinquency=[]\n",
    "    spend = []\n",
    "    payment = []\n",
    "    balance = []\n",
    "    risk = []\n",
    "    std = []\n",
    "    mean = []\n",
    "    _25 = []\n",
    "    _50 = []\n",
    "    _75 = []\n",
    "    _min = []\n",
    "    _max = []\n",
    "\n",
    "    for x in important_feature:\n",
    "        if x[0]=='D':\n",
    "            delinquency.append(x)\n",
    "        if x[0]=='S':\n",
    "            spend.append(x)\n",
    "        if x[0]=='P':\n",
    "            payment.append(x)\n",
    "        if x[0]=='B':\n",
    "            balance.append(x)\n",
    "        if x[0]=='R':\n",
    "            risk.append(x)\n",
    "        if x[-3:]=='std':\n",
    "            std.append(x)\n",
    "        elif x[-3:]=='25%':\n",
    "            _25.append(x)\n",
    "        elif x[-3:]=='75%':\n",
    "            _75.append(x)\n",
    "        elif x[-3:]=='50%':\n",
    "            _50.append(x)\n",
    "        elif x[-3:]=='min':\n",
    "            _min.append(x)\n",
    "        elif x[-3:]=='max':\n",
    "            _max.append(x)\n",
    "        else:\n",
    "            mean.append(x)  \n",
    "    feature_sets = {'delinquency':delinquency,'spend':spend,'payment':payment,'balance':balance,'risk':risk,'std':std,\n",
    "                    'mean':mean,'_25':_25,'_50':_50,'_75':_75,'_min':_min,'_max':_max, 'unimportant_fe':unimportant_feature}\n",
    "    return feature_sets"
   ]
  },
  {
   "cell_type": "code",
   "execution_count": 36,
   "id": "c73ea0ac",
   "metadata": {},
   "outputs": [],
   "source": [
    "def stacker(feature,feature_sets,m='G'):\n",
    "    column_name = list(feature_sets.keys())\n",
    "    if m=='L':\n",
    "        r = pd.read_csv('l1_stacking_model_G.csv')\n",
    "    if m=='G':\n",
    "        r = pd.read_csv('l1_stacking_model_L.csv')\n",
    "    stack_feature = pd.DataFrame(columns = column_name)\n",
    "    for x in column_name:\n",
    "        print(x, end='-->')\n",
    "        best_stacking_model = r[x].value_counts().keys()[0]\n",
    "        stacking_feature = np.array(feature[feature_sets[x]])\n",
    "        stack_feature[x] = level_1_predictor(stacking_feature,np_label.T[0], model_dic[best_stacking_model])\n",
    "        print(best_stacking_model)\n",
    "    return stack_feature"
   ]
  },
  {
   "cell_type": "code",
   "execution_count": 31,
   "id": "9a2dd979",
   "metadata": {},
   "outputs": [],
   "source": [
    "df= pd.read_csv(r'C:\\Users\\johnk\\OneDrive\\Desktop\\project\\python project\\kaggle\\amex-default-prediction\\new_train\\train_9.csv')"
   ]
  },
  {
   "cell_type": "code",
   "execution_count": 37,
   "id": "5379909c",
   "metadata": {},
   "outputs": [],
   "source": [
    "feature = df.iloc[:,1:-1]\n",
    "label = pd.DataFrame(df['target'], columns=['target'])\n",
    "np_label = np.array(label)\n",
    "feature_name = feature.columns"
   ]
  },
  {
   "cell_type": "code",
   "execution_count": 39,
   "id": "0cda1589",
   "metadata": {},
   "outputs": [],
   "source": [
    "feature_sets = categorize_important_feature(1,'L')"
   ]
  },
  {
   "cell_type": "code",
   "execution_count": 60,
   "id": "4c102e58",
   "metadata": {},
   "outputs": [],
   "source": [
    "models = [LogisticRegression]"
   ]
  },
  {
   "cell_type": "code",
   "execution_count": 41,
   "id": "26bc90ad",
   "metadata": {},
   "outputs": [],
   "source": [
    "model_dic ={}\n",
    "for x in models:\n",
    "    model_dic[x.__name__] = x"
   ]
  },
  {
   "cell_type": "code",
   "execution_count": 42,
   "id": "1f6915d2",
   "metadata": {},
   "outputs": [],
   "source": [
    "for x in feature_name:\n",
    "    feature[x]=feature[x].fillna(feature[x].mean())"
   ]
  },
  {
   "cell_type": "code",
   "execution_count": 43,
   "id": "318e0e60",
   "metadata": {},
   "outputs": [
    {
     "name": "stdout",
     "output_type": "stream",
     "text": [
      "delinquency-->GradientBoostingClassifier\n",
      "spend-->RandomForestClassifier\n",
      "payment-->LogisticRegression\n",
      "balance-->RandomForestClassifier\n",
      "risk-->RandomForestClassifier\n",
      "std-->GradientBoostingClassifier\n",
      "mean-->LogisticRegression\n",
      "_25-->GradientBoostingClassifier\n",
      "_50-->GradientBoostingClassifier\n",
      "_75-->GradientBoostingClassifier\n",
      "_min-->GradientBoostingClassifier\n",
      "_max-->LogisticRegression\n",
      "unimportant_fe-->GradientBoostingClassifier\n"
     ]
    }
   ],
   "source": [
    "stack_feature = stacker(feature, feature_sets)"
   ]
  },
  {
   "cell_type": "code",
   "execution_count": null,
   "id": "26a16128",
   "metadata": {
    "scrolled": true
   },
   "outputs": [],
   "source": [
    "important_feature, unimportant_feature = retrieve_important_feature(1,'G')\n",
    "feature_u = pd.concat([feature[important_feature],stack_feature], axis = 1)\n",
    "X_train, X_test, y_train, y_test = train_test_split(feature_u,label, test_size=0.2, random_state=11)\n",
    "for x in models:\n",
    "    print(x.__name__,cross_validation(5,X_train, y_train, roc_auc_score,x))"
   ]
  },
  {
   "cell_type": "code",
   "execution_count": 65,
   "id": "070cf5ce",
   "metadata": {},
   "outputs": [
    {
     "name": "stdout",
     "output_type": "stream",
     "text": [
      "ERROR! Session/line number was not unique in database. History logging moved to new session 298\n"
     ]
    }
   ],
   "source": []
  },
  {
   "cell_type": "code",
   "execution_count": 64,
   "id": "04029bc9",
   "metadata": {},
   "outputs": [
    {
     "data": {
      "text/plain": [
       "502"
      ]
     },
     "execution_count": 64,
     "metadata": {},
     "output_type": "execute_result"
    }
   ],
   "source": [
    "len(important_feature)"
   ]
  }
 ],
 "metadata": {
  "kernelspec": {
   "display_name": "Python 3 (ipykernel)",
   "language": "python",
   "name": "python3"
  },
  "language_info": {
   "codemirror_mode": {
    "name": "ipython",
    "version": 3
   },
   "file_extension": ".py",
   "mimetype": "text/x-python",
   "name": "python",
   "nbconvert_exporter": "python",
   "pygments_lexer": "ipython3",
   "version": "3.10.5"
  }
 },
 "nbformat": 4,
 "nbformat_minor": 5
}
