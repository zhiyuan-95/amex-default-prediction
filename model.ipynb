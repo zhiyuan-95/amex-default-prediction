{
 "cells": [
  {
   "cell_type": "code",
   "execution_count": 5,
   "id": "ee4c34f9",
   "metadata": {},
   "outputs": [],
   "source": [
    "import pandas as pd\n",
    "import numpy as np\n",
    "from sklearn.model_selection import train_test_split\n",
    "from sklearn.ensemble import AdaBoostClassifier\n",
    "from sklearn.ensemble import GradientBoostingClassifier\n",
    "from sklearn.ensemble import RandomForestClassifier\n",
    "from sklearn.linear_model import LogisticRegression\n",
    "from sklearn.metrics import roc_auc_score\n",
    "import time\n",
    "import csv"
   ]
  },
  {
   "cell_type": "code",
   "execution_count": 6,
   "id": "b126666b",
   "metadata": {},
   "outputs": [],
   "source": [
    "from sklearn.model_selection import KFold\n",
    "def cross_validation(folds, data, labels, error_function, model, **model_args):\n",
    "    kf = KFold(n_splits=folds, random_state=None, shuffle = True)\n",
    "    score = []\n",
    "    y = labels\n",
    "    if model == LogisticRegression:\n",
    "        M = model(max_iter = 20**9)\n",
    "    else:\n",
    "        M = model()\n",
    "    predicted_lable = pd.DataFrame(columns = ['prediction'])\n",
    "    for train_index,test_index in kf.split(data):\n",
    "        x_training_set = data.iloc[train_index]\n",
    "        y_training_set = y.iloc[train_index]\n",
    "        x_test_set = data.iloc[test_index]\n",
    "        y_test_set = y.iloc[test_index]\n",
    "        M.fit(np.array(x_training_set), np.array(y_training_set).T[0])\n",
    "        y_pred = M.predict_proba(np.array(x_test_set))\n",
    "        y_pred = [x[1] for x in y_pred]\n",
    "        score.append(error_function(y_test_set,y_pred)) \n",
    "        print('.',end=' ')\n",
    "    average_error = round(sum(score)/folds,4)\n",
    "    return average_error"
   ]
  },
  {
   "cell_type": "code",
   "execution_count": 7,
   "id": "3d098e8d",
   "metadata": {},
   "outputs": [],
   "source": [
    "def level_1_predictor(t_train,y, model):\n",
    "    leng = int(len(t_train)/2)\n",
    "    t_a, t_b= t_train[:leng], t_train[leng:]\n",
    "    tg_a, tg_b = y[:leng], y[leng:]\n",
    "    if model == LogisticRegression:\n",
    "        m1 = model(max_iter = 20**9)\n",
    "        m2 = model(max_iter = 20**9)\n",
    "    else:\n",
    "        m1 = model()\n",
    "        m2 = model()\n",
    "\n",
    "    m1.fit(t_a,tg_a)\n",
    "    tp_b = [i[1] for i in m1.predict_proba(t_b)]\n",
    "    m2.fit(t_b,tg_b)\n",
    "    tp_a = [i[1] for i in m2.predict_proba(t_a)]\n",
    "    tp = [x for x in np.hstack((tp_a,tp_b))]\n",
    "    \n",
    "    return tp"
   ]
  },
  {
   "cell_type": "code",
   "execution_count": 8,
   "id": "a4d92bc4",
   "metadata": {},
   "outputs": [],
   "source": [
    "def retrieve_important_feature(s,m):\n",
    "    file = pd.read_csv('important_l1.csv')\n",
    "    feature_name = file.columns\n",
    "    if m=='G':\n",
    "        importance = file.iloc[0]\n",
    "    if m=='L':\n",
    "        importance = file.iloc[1]\n",
    "    itr = 0\n",
    "    important_feature = []\n",
    "    unimportant_feature = []\n",
    "    for x in importance:\n",
    "        if x>s:\n",
    "            important_feature.append(feature_name[itr])\n",
    "        else:\n",
    "            unimportant_feature.append(feature_name[itr])\n",
    "        itr+=1\n",
    "    return important_feature, unimportant_feature"
   ]
  },
  {
   "cell_type": "code",
   "execution_count": 9,
   "id": "09c94230",
   "metadata": {},
   "outputs": [],
   "source": [
    "def categorize_important_feature(n,m):\n",
    "    important_feature, unimportant_feature = retrieve_important_feature(n,m)\n",
    "    delinquency=[]\n",
    "    spend = []\n",
    "    payment = []\n",
    "    balance = []\n",
    "    risk = []\n",
    "    std = []\n",
    "    mean = []\n",
    "    _25 = []\n",
    "    _50 = []\n",
    "    _75 = []\n",
    "    _min = []\n",
    "    _max = []\n",
    "\n",
    "    for x in important_feature:\n",
    "        if x[0]=='D':\n",
    "            delinquency.append(x)\n",
    "        if x[0]=='S':\n",
    "            spend.append(x)\n",
    "        if x[0]=='P':\n",
    "            payment.append(x)\n",
    "        if x[0]=='B':\n",
    "            balance.append(x)\n",
    "        if x[0]=='R':\n",
    "            risk.append(x)\n",
    "        if x[-3:]=='std':\n",
    "            std.append(x)\n",
    "        elif x[-3:]=='25%':\n",
    "            _25.append(x)\n",
    "        elif x[-3:]=='75%':\n",
    "            _75.append(x)\n",
    "        elif x[-3:]=='50%':\n",
    "            _50.append(x)\n",
    "        elif x[-3:]=='min':\n",
    "            _min.append(x)\n",
    "        elif x[-3:]=='max':\n",
    "            _max.append(x)\n",
    "        else:\n",
    "            mean.append(x)  \n",
    "    feature_sets = {'delinquency':delinquency,'spend':spend,'payment':payment,'balance':balance,'risk':risk,'std':std,\n",
    "                    'mean':mean,'_25':_25,'_50':_50,'_75':_75,'_min':_min,'_max':_max, 'unimportant_fe':unimportant_feature}\n",
    "    return feature_sets"
   ]
  },
  {
   "cell_type": "code",
   "execution_count": 38,
   "id": "73d3da46",
   "metadata": {},
   "outputs": [],
   "source": [
    "models = [LogisticRegression,GradientBoostingClassifier,RandomForestClassifier]\n",
    "model_dic ={}\n",
    "for x in models:\n",
    "    model_dic[x.__name__] = x\n",
    "feature_name = pd.read_csv('important_l1.csv').iloc[:,1:-1].columns"
   ]
  },
  {
   "cell_type": "code",
   "execution_count": null,
   "id": "185a27a7",
   "metadata": {},
   "outputs": [],
   "source": []
  },
  {
   "cell_type": "code",
   "execution_count": 20,
   "id": "9a2dd979",
   "metadata": {},
   "outputs": [],
   "source": [
    "for x in range(0,15):\n",
    "    df= pd.read_csv(r'C:\\Users\\johnk\\OneDrive\\Desktop\\project\\python project\\kaggle\\amex-default-prediction\\new_train\\train_{0}.csv'.format(x))\n",
    "    feature = df.iloc[:,1:-1]\n",
    "    label = pd.DataFrame(df['target'], columns=['target'])\n",
    "    np_label = np.array(label)\n",
    "    for x in feature_name:\n",
    "        feature[x]=feature[x].fillna(feature[x].mean())\n",
    "    recording = []\n",
    "    stack_feature, fitted_model = stacker(feature, np_label.T[0],feature_sets,model_dic)\n",
    "    for y in range(2,14):\n",
    "        feature_sets = categorize_important_feature(y,'G')\n",
    "        important_feature, unimportant_feature = retrieve_important_feature(y,'G')\n",
    "        impt_feature = feature[important_feature]\n",
    "        feature_u = pd.concat([impt_feature,stack_feature], axis = 1)\n",
    "        for m in models:\n",
    "            score = cross_validation(5,feature_u,label, roc_auc_score,m)\n",
    "            recording.append((score, y, m.__name__[0]))\n",
    "    print(x,end=' ')\n",
    "    top_3 = sorted(recording, key=lambda x:x[0], reverse = True)[:3]  \n",
    "    rd = pd.DataFrame(top_3, columns = ['AUC','important_level','model'])\n",
    "    performance_history = pd.read_csv('performance.csv')\n",
    "    new_performance = pd.concat([rd,performance_history], axis = 0)\n",
    "    new_performance.to_csv('perfornance.csv', index = False)"
   ]
  },
  {
   "cell_type": "code",
   "execution_count": 24,
   "id": "318e0e60",
   "metadata": {
    "scrolled": true
   },
   "outputs": [
    {
     "name": "stdout",
     "output_type": "stream",
     "text": [
      "G G L R R G G G G G G L G "
     ]
    }
   ],
   "source": [
    "#G -G -L -R -R -G -G -G -G -G -G -L -G \n",
    "#G -G -L -R -R -G -G -G -G -G -G -L -G \n",
    "stack_feature, fitted_model = stacker(feature, np_label.T[0],feature_sets,model_dic)"
   ]
  },
  {
   "cell_type": "markdown",
   "id": "8b8740c1",
   "metadata": {},
   "source": [
    "    4 G -- 0.945\n",
    "    4 G -- 0.9461\n",
    "    1 G -- 0.9461\n",
    "    4 L -- 0.9514\n",
    "    (4,L,0.951), (3,G,0.9506),(4,G,0.9497)  "
   ]
  },
  {
   "cell_type": "code",
   "execution_count": 27,
   "id": "b1a7336b",
   "metadata": {},
   "outputs": [
    {
     "name": "stdout",
     "output_type": "stream",
     "text": [
      ". . . . . [0.9451, 2, 'L']\n",
      ". . . . . [0.9478, 2, 'G']\n",
      ". . . . . [0.9458, 2, 'R']\n",
      ". . . . . [0.9461, 3, 'L']\n",
      ". . . . . [0.9484, 3, 'G']\n",
      ". . . . . [0.945, 3, 'R']\n",
      ". . . . . [0.9475, 4, 'L']\n",
      ". . . . . [0.9486, 4, 'G']\n",
      ". . . . . [0.9439, 4, 'R']\n",
      ". . . . . [0.9462, 5, 'L']\n",
      ". . . . . [0.9485, 5, 'G']\n",
      ". . . . . [0.9461, 5, 'R']\n",
      ". . . . . [0.9475, 6, 'L']\n",
      ". . . . . [0.9479, 6, 'G']\n",
      ". . . . . [0.9469, 6, 'R']\n",
      ". . . . . [0.9486, 7, 'L']\n",
      ". . . . . [0.9484, 7, 'G']\n",
      ". . . . . [0.9459, 7, 'R']\n",
      ". . . . . [0.9486, 8, 'L']\n",
      ". . . . . [0.9485, 8, 'G']\n",
      ". . . . . [0.9449, 8, 'R']\n",
      ". . . . . [0.9482, 9, 'L']\n",
      ". . . . . [0.9479, 9, 'G']\n",
      ". . . . . [0.9452, 9, 'R']\n"
     ]
    }
   ],
   "source": [
    "recording = []\n",
    "for x in range(2,10):\n",
    "    important_feature, unimportant_feature = retrieve_important_feature(x,'G')\n",
    "    impt_feature = feature[important_feature]\n",
    "    feature_u = pd.concat([impt_feature,stack_feature], axis = 1)\n",
    "    for m in models:\n",
    "        score = cross_validation(5,feature_u,label, roc_auc_score,m)\n",
    "        recording.append((score, x, m.__name__[0]))\n",
    "        print([score, x, m.__name__[0]])\n",
    "top_5 = sorted(recording, key=lambda x:x[0], reverse = True)[:5]\n",
    "rd = pd.DataFrame(top_3, columns = ['AUC','important_level','model'])\n",
    "performance_history = pd.read_csv('performance.csv')\n",
    "new_performance = pd.concat([rd,performance_history], axis = 0)\n",
    "new_performance.to_csv('perfornance.csv', index = False)"
   ]
  },
  {
   "cell_type": "code",
   "execution_count": 30,
   "id": "0f665727",
   "metadata": {},
   "outputs": [
    {
     "data": {
      "text/plain": [
       "[(0.9486, 4, 'G'), (0.9486, 7, 'L'), (0.9486, 8, 'L')]"
      ]
     },
     "execution_count": 30,
     "metadata": {},
     "output_type": "execute_result"
    }
   ],
   "source": [
    "top_3"
   ]
  },
  {
   "cell_type": "code",
   "execution_count": 33,
   "id": "1590bcbc",
   "metadata": {},
   "outputs": [],
   "source": [
    "i = pd.DataFrame(top_3, columns = ['AUC','important_level','model'])"
   ]
  },
  {
   "cell_type": "code",
   "execution_count": 34,
   "id": "601d7588",
   "metadata": {},
   "outputs": [],
   "source": [
    "i.to_csv('performance.csv', index=False)"
   ]
  },
  {
   "cell_type": "code",
   "execution_count": 36,
   "id": "220f56f3",
   "metadata": {},
   "outputs": [],
   "source": [
    "j = pd.read_csv('performance.csv')"
   ]
  },
  {
   "cell_type": "code",
   "execution_count": 37,
   "id": "77585622",
   "metadata": {},
   "outputs": [
    {
     "data": {
      "text/html": [
       "<div>\n",
       "<style scoped>\n",
       "    .dataframe tbody tr th:only-of-type {\n",
       "        vertical-align: middle;\n",
       "    }\n",
       "\n",
       "    .dataframe tbody tr th {\n",
       "        vertical-align: top;\n",
       "    }\n",
       "\n",
       "    .dataframe thead th {\n",
       "        text-align: right;\n",
       "    }\n",
       "</style>\n",
       "<table border=\"1\" class=\"dataframe\">\n",
       "  <thead>\n",
       "    <tr style=\"text-align: right;\">\n",
       "      <th></th>\n",
       "      <th>AUC</th>\n",
       "      <th>important_level</th>\n",
       "      <th>model</th>\n",
       "    </tr>\n",
       "  </thead>\n",
       "  <tbody>\n",
       "    <tr>\n",
       "      <th>0</th>\n",
       "      <td>0.9486</td>\n",
       "      <td>4</td>\n",
       "      <td>G</td>\n",
       "    </tr>\n",
       "    <tr>\n",
       "      <th>1</th>\n",
       "      <td>0.9486</td>\n",
       "      <td>7</td>\n",
       "      <td>L</td>\n",
       "    </tr>\n",
       "    <tr>\n",
       "      <th>2</th>\n",
       "      <td>0.9486</td>\n",
       "      <td>8</td>\n",
       "      <td>L</td>\n",
       "    </tr>\n",
       "  </tbody>\n",
       "</table>\n",
       "</div>"
      ],
      "text/plain": [
       "      AUC  important_level model\n",
       "0  0.9486                4     G\n",
       "1  0.9486                7     L\n",
       "2  0.9486                8     L"
      ]
     },
     "execution_count": 37,
     "metadata": {},
     "output_type": "execute_result"
    }
   ],
   "source": [
    "j"
   ]
  },
  {
   "cell_type": "code",
   "execution_count": 102,
   "id": "26a16128",
   "metadata": {
    "scrolled": true
   },
   "outputs": [],
   "source": [
    "class amex_default_prediction:\n",
    "    def __init__(self):\n",
    "        self._feature_importance = pd.read_csv('important_l1.csv')\n",
    "        self._feature_name = self._feature_importance.columns\n",
    "        self._impt_fe= retrieve_important_feature(4,'G')[0]\n",
    "        self._impt_fe_train = None\n",
    "        self._feature_sets = categorize_important_feature(1,'G')\n",
    "        self._models = [LogisticRegression,GradientBoostingClassifier,RandomForestClassifier]\n",
    "        self._model_dic = {}\n",
    "        for x in self._models:\n",
    "            self._model_dic[x.__name__] = x\n",
    "        self._train_l1 = None\n",
    "        self._feature_l2 = None\n",
    "        self._label = None\n",
    "        self._stacking_train = None\n",
    "        self._fitted_models_l1 = None\n",
    "        self._fitted_model_l2 = None\n",
    "        self._test_l1 = None\n",
    "        self._test_l2 = None\n",
    "        self._stacked_test = None\n",
    "        self._prediction = None\n",
    "    def fillNa(self, data):\n",
    "        feature = data\n",
    "        for x in data.columns:\n",
    "            feature[x]=feature[x].fillna(feature[x].mean())\n",
    "        return feature\n",
    "    def fit(self, train, label):\n",
    "        self._train_l1 = self.fillNa(train)\n",
    "        self._label = np.array(label).T[0]\n",
    "        self._stacking_train, self._fitted_models_l1 = stacker(self._train_l1,self._label,self._feature_sets, self._model_dic)\n",
    "        self._impt_fe_train = self._train_l1[self._impt_fe]\n",
    "        self._train_l2 = pd.concat([self._impt_fe_train,self._stacking_train], axis = 1)        \n",
    "        self._fitted_model_l2 = GradientBoostingClassifier()\n",
    "        self._fitted_model_l2.fit(self._train_l2, self._label)\n",
    "    def predict(self, test):\n",
    "        self._test_l1 = self.fillNa(test)\n",
    "        self._stacked_test = stacker_for_testSet(self._test_l1,self._feature_sets,self._fitted_models_l1)\n",
    "        self._impt_fe_test = self._test_l1[self._impt_fe]\n",
    "        self._test_l2 = pd.concat([self._impt_fe_test,self._stacked_test], axis = 1)\n",
    "        self._prediction = self._fitted_model_l2.predict_proba(self._test_l2)\n",
    "        return self._prediction"
   ]
  },
  {
   "cell_type": "code",
   "execution_count": 22,
   "id": "c73ea0ac",
   "metadata": {},
   "outputs": [],
   "source": [
    "def stacker(feature,np_label,feature_sets,model_dic,m='G'):\n",
    "    column_name = list(feature_sets.keys())\n",
    "    if m=='G':\n",
    "        r = pd.read_csv('l1_stacking_model_G.csv')\n",
    "    if m=='L':\n",
    "        r = pd.read_csv('l1_stacking_model_L.csv')\n",
    "    stack_feature = pd.DataFrame(columns = column_name)\n",
    "    fitted_model = {}\n",
    "    for x in column_name:\n",
    "        best_stacking_model = model_dic[r[x].value_counts().keys()[0]]\n",
    "        stacking_feature = np.array(feature[feature_sets[x]])\n",
    "        stack_feature[x] = level_1_predictor(stacking_feature,np_label, best_stacking_model)\n",
    "        if best_stacking_model==LogisticRegression:\n",
    "            md = best_stacking_model(max_iter = 20**9)\n",
    "            md.fit(stacking_feature, np_label)\n",
    "            fitted_model[x]=md\n",
    "        else:\n",
    "            md = best_stacking_model()\n",
    "            md.fit(stacking_feature, np_label)\n",
    "            fitted_model[x]=md\n",
    "        print(best_stacking_model.__name__[0], end = ' ')\n",
    "    return stack_feature, fitted_model"
   ]
  },
  {
   "cell_type": "code",
   "execution_count": 23,
   "id": "9629492b",
   "metadata": {},
   "outputs": [],
   "source": [
    "def stacker_for_testSet(feature,feature_sets,fitted_models_l1):\n",
    "    column_name = list(feature_sets.keys())\n",
    "    stack_feature = pd.DataFrame(columns = column_name)\n",
    "    for x in column_name:\n",
    "        i = np.array(feature[feature_sets[x]])\n",
    "        stack_feature[x] = [x[1] for x in fitted_models_l1[x].predict_proba(i)]\n",
    "    return stack_feature"
   ]
  },
  {
   "cell_type": "code",
   "execution_count": 130,
   "id": "b7adbf37",
   "metadata": {},
   "outputs": [],
   "source": [
    "training_set= pd.read_csv(r'C:\\Users\\johnk\\OneDrive\\Desktop\\project\\python project\\kaggle\\amex-default-prediction\\new_train\\train_0.csv')\n",
    "training_feature = training_set.iloc[:,1:-1]\n",
    "training_label = pd.DataFrame(training_set['target'], columns=['target'])"
   ]
  },
  {
   "cell_type": "code",
   "execution_count": 132,
   "id": "0f1d8906",
   "metadata": {},
   "outputs": [
    {
     "name": "stdout",
     "output_type": "stream",
     "text": [
      "G G L R R G G G G G G L G 570.1485035419464 seconds\n"
     ]
    }
   ],
   "source": [
    "start_time = time.time()\n",
    "ame = amex_default_prediction()\n",
    "ame.fit(training_feature, training_label)\n",
    "print(time.time()-start_time, 'seconds')"
   ]
  },
  {
   "cell_type": "code",
   "execution_count": null,
   "id": "9466e853",
   "metadata": {},
   "outputs": [],
   "source": []
  },
  {
   "cell_type": "code",
   "execution_count": 136,
   "id": "90d35b0c",
   "metadata": {
    "scrolled": true
   },
   "outputs": [
    {
     "name": "stdout",
     "output_type": "stream",
     "text": [
      "1 0.9520491505461705 29.595930576324463 seconds\n",
      "2 0.9521965903604352 29.54458737373352 seconds\n",
      "3 0.951810802534654 30.59487009048462 seconds\n",
      "4 0.9512383659221806 31.634234189987183 seconds\n",
      "5 0.9510871988052516 30.752591848373413 seconds\n",
      "6 0.9514661496259162 30.806410551071167 seconds\n",
      "7 0.9515070624893804 30.320690631866455 seconds\n",
      "8 0.9520989141760453 30.908007860183716 seconds\n",
      "9 0.9525772105903045 29.86560297012329 seconds\n",
      "10 0.9509517011325983 30.291007041931152 seconds\n",
      "11 0.9499105572196073 30.550331830978394 seconds\n",
      "12 0.947727331544759 29.17696523666382 seconds\n",
      "13 0.9468199565583842 30.33099675178528 seconds\n",
      "14 0.9464015913548021 31.41072940826416 seconds\n"
     ]
    }
   ],
   "source": [
    "for x in range(1,15):\n",
    "    start_time = time.time()\n",
    "    test_set = pd.read_csv(r'C:\\Users\\johnk\\OneDrive\\Desktop\\project\\python project\\kaggle\\amex-default-prediction\\new_train\\train_{0}.csv'.format(x))\n",
    "    test_feature = test_set.iloc[:,1:-1]\n",
    "    test_label = pd.DataFrame(test_set['target'], columns=['target'])\n",
    "    prediction = ame.predict(test_feature)\n",
    "    prediction_1 = [x[1] for x in prediction]\n",
    "    print(x, roc_auc_score(test_label, prediction_1), end = ' ')\n",
    "    print(time.time()-start_time, 'seconds')"
   ]
  },
  {
   "cell_type": "code",
   "execution_count": null,
   "id": "32de692a",
   "metadata": {},
   "outputs": [],
   "source": []
  },
  {
   "cell_type": "code",
   "execution_count": null,
   "id": "a97c2831",
   "metadata": {},
   "outputs": [],
   "source": []
  }
 ],
 "metadata": {
  "kernelspec": {
   "display_name": "Python 3 (ipykernel)",
   "language": "python",
   "name": "python3"
  },
  "language_info": {
   "codemirror_mode": {
    "name": "ipython",
    "version": 3
   },
   "file_extension": ".py",
   "mimetype": "text/x-python",
   "name": "python",
   "nbconvert_exporter": "python",
   "pygments_lexer": "ipython3",
   "version": "3.10.5"
  }
 },
 "nbformat": 4,
 "nbformat_minor": 5
}
