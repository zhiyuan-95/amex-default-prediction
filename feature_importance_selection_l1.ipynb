{
 "cells": [
  {
   "cell_type": "code",
   "execution_count": 1,
   "id": "8a66d371",
   "metadata": {},
   "outputs": [],
   "source": [
    "import pandas as pd\n",
    "import numpy as np\n",
    "from sklearn.model_selection import train_test_split\n",
    "from sklearn.ensemble import GradientBoostingClassifier\n",
    "from sklearn.ensemble import RandomForestClassifier\n",
    "from sklearn.linear_model import LogisticRegression\n",
    "from sklearn.metrics import roc_auc_score\n",
    "import time\n",
    "import csv\n",
    "from sklearn.inspection import permutation_importance"
   ]
  },
  {
   "cell_type": "code",
   "execution_count": 63,
   "id": "f933dad3",
   "metadata": {},
   "outputs": [],
   "source": [
    "def find_important_feature(model,file_numb):\n",
    "    df = pd.read_csv(r'C:\\Users\\johnk\\OneDrive\\Desktop\\project\\python project\\kaggle\\amex-default-prediction\\new_train\\train_{0}.csv'.format(7))\n",
    "    value_counts = pd.DataFrame(list(df.describe().iloc[0]), columns = ['counts'])\n",
    "    col = pd.DataFrame(df.describe().iloc[0].index, columns = ['col'])\n",
    "    df_count = pd.concat([col,value_counts], axis=1)\n",
    "    keep = df_count.loc[df_count['counts']>1000].iloc[:-1]\n",
    "    feature_name = list(keep['col'])\n",
    "    label = pd.DataFrame(df['target'], columns=['target'])\n",
    "    np_label =  np.array(label).T[0]\n",
    "    for y in feature_name:\n",
    "        df[y]=df[y].fillna(df[y].mean())\n",
    "    feature = df[feature_name]\n",
    "    if model == LogisticRegression:\n",
    "        mdl = model(max_iter =20**9)\n",
    "    else: \n",
    "        mdl = model()\n",
    "    mdl.fit(feature, np_label)\n",
    "    feature_importance = permutation_importance(mdl, feature, np_label, n_repeats=10)\n",
    "    fi = pd.DataFrame(feature_importance.importances_mean, index = feature.columns, columns = ['importance'])\n",
    "    important_l1= fi.loc[fi['importance']>0].index\n",
    "    return important_l1"
   ]
  },
  {
   "cell_type": "code",
   "execution_count": 3,
   "id": "ad468cde",
   "metadata": {},
   "outputs": [],
   "source": [
    "def update_important_l1(model, file_number):\n",
    "    i = pd.read_csv('important_l1.csv')\n",
    "    important_l1 = find_important_feature(model, file_number)\n",
    "    if model == GradientBoostingClassifier:\n",
    "        for x in important_l1:\n",
    "            i.loc[0,x]+=1\n",
    "    if model == LogisticRegression:\n",
    "        for x in important_l1:\n",
    "            i.loc[1,x]+=1\n",
    "    i.to_csv('important_l1.csv', index = False)"
   ]
  },
  {
   "cell_type": "code",
   "execution_count": 65,
   "id": "f03692d2",
   "metadata": {
    "scrolled": true
   },
   "outputs": [],
   "source": [
    "models = [GradientBoostingClassifier]"
   ]
  },
  {
   "cell_type": "code",
   "execution_count": null,
   "id": "d32f9229",
   "metadata": {},
   "outputs": [],
   "source": [
    "for x in range(0,15):\n",
    "    start_time = time.time()\n",
    "    for m in models:\n",
    "        important_l1 = update_important_l1(m,x)\n",
    "        print('. ', end='')\n",
    "    print(x, end=' ')\n",
    "    print(\" %s second \" %(time.time()-start_time))"
   ]
  },
  {
   "cell_type": "code",
   "execution_count": null,
   "id": "cc8f790f",
   "metadata": {},
   "outputs": [],
   "source": []
  }
 ],
 "metadata": {
  "kernelspec": {
   "display_name": "Python 3 (ipykernel)",
   "language": "python",
   "name": "python3"
  },
  "language_info": {
   "codemirror_mode": {
    "name": "ipython",
    "version": 3
   },
   "file_extension": ".py",
   "mimetype": "text/x-python",
   "name": "python",
   "nbconvert_exporter": "python",
   "pygments_lexer": "ipython3",
   "version": "3.10.5"
  }
 },
 "nbformat": 4,
 "nbformat_minor": 5
}
