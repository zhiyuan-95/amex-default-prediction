{
 "cells": [
  {
   "cell_type": "code",
   "execution_count": 1,
   "id": "8a66d371",
   "metadata": {},
   "outputs": [],
   "source": [
    "import pandas as pd\n",
    "import numpy as np\n",
    "from sklearn.model_selection import train_test_split\n",
    "from sklearn.ensemble import GradientBoostingClassifier\n",
    "from sklearn.ensemble import RandomForestClassifier\n",
    "from sklearn.linear_model import LogisticRegression\n",
    "from sklearn.metrics import roc_auc_score\n",
    "import time\n",
    "import csv\n",
    "from sklearn.inspection import permutation_importance"
   ]
  },
  {
   "cell_type": "code",
   "execution_count": 2,
   "id": "f933dad3",
   "metadata": {},
   "outputs": [],
   "source": [
    "def find_important_feature(model,file_numb):\n",
    "    df = pd.read_csv(r'C:\\Users\\johnk\\OneDrive\\Desktop\\project\\python project\\kaggle\\amex-default-prediction\\new_train\\train_{0}.csv'.format(file_numb))\n",
    "    value_counts = pd.DataFrame(list(df.describe().iloc[0]), columns = ['counts'])\n",
    "    col = pd.DataFrame(df.describe().iloc[0].index, columns = ['col'])\n",
    "    df_count = pd.concat([col,value_counts], axis=1)\n",
    "    keep = df_count.loc[df_count['counts']>1000].iloc[:-1]\n",
    "    feature_name = list(keep['col'])\n",
    "    label = pd.DataFrame(df['target'], columns=['target'])\n",
    "    np_label =  np.array(label).T[0]\n",
    "    for y in feature_name:\n",
    "        df[y]=df[y].fillna(df[y].mean())\n",
    "    feature = df[feature_name]\n",
    "    if model == LogisticRegression:\n",
    "        mdl = model(max_iter =20**9)\n",
    "    else: \n",
    "        mdl = model()\n",
    "    mdl.fit(feature, np_label)\n",
    "    feature_importance = permutation_importance(mdl, feature, np_label, n_repeats=10)\n",
    "    fi = pd.DataFrame(feature_importance.importances_mean, index = feature.columns, columns = ['importance'])\n",
    "    important_l1= fi.loc[fi['importance']>0].index\n",
    "    return important_l1"
   ]
  },
  {
   "cell_type": "code",
   "execution_count": 3,
   "id": "ad468cde",
   "metadata": {},
   "outputs": [],
   "source": [
    "def update_important_l1(model, file_number):\n",
    "    i = pd.read_csv('important_l1.csv')\n",
    "    important_l1 = find_important_feature(model, file_number)\n",
    "    if model == GradientBoostingClassifier:\n",
    "        for x in important_l1:\n",
    "            i.loc[0,x]+=1\n",
    "    if model == LogisticRegression:\n",
    "        for x in important_l1:\n",
    "            i.loc[1,x]+=1\n",
    "    i.to_csv('important_l1.csv', index = False)"
   ]
  },
  {
   "cell_type": "code",
   "execution_count": 4,
   "id": "f03692d2",
   "metadata": {
    "scrolled": true
   },
   "outputs": [],
   "source": [
    "models = [GradientBoostingClassifier]"
   ]
  },
  {
   "cell_type": "code",
   "execution_count": 5,
   "id": "d32f9229",
   "metadata": {},
   "outputs": [
    {
     "name": "stdout",
     "output_type": "stream",
     "text": [
      ". 0  4099.494049549103 second \n",
      ". 1  3040.5778987407684 second \n",
      ". 2  2607.886709690094 second \n",
      ". 3  4099.566225528717 second \n",
      ". 4  2488.1827986240387 second \n",
      ". 5  2545.2422466278076 second \n",
      ". 6  2511.7177183628082 second \n",
      ". 7  2555.4650416374207 second \n",
      ". 8  2192.2873837947845 second \n",
      ". 9  2037.8780126571655 second \n",
      ". 10  2146.6922466754913 second \n",
      ". 11  2100.353888988495 second \n",
      ". 12  2060.1722996234894 second \n",
      ". 13  1996.2748103141785 second \n",
      ". 14  2230.5583822727203 second \n",
      ". 15  2175.1310291290283 second \n",
      ". 16  2047.5375006198883 second \n",
      ". 17  1986.2682464122772 second \n",
      ". 18  1924.280023097992 second \n",
      ". 19  2093.7526111602783 second \n"
     ]
    }
   ],
   "source": [
    "for x in range(0,20):\n",
    "    start_time = time.time()\n",
    "    for m in models:\n",
    "        important_l1 = update_important_l1(m,x)\n",
    "        print('. ', end='')\n",
    "    print(x, end=' ')\n",
    "    print(\" %s second \" %(time.time()-start_time))"
   ]
  },
  {
   "cell_type": "code",
   "execution_count": null,
   "id": "cc8f790f",
   "metadata": {},
   "outputs": [],
   "source": []
  }
 ],
 "metadata": {
  "kernelspec": {
   "display_name": "Python 3 (ipykernel)",
   "language": "python",
   "name": "python3"
  },
  "language_info": {
   "codemirror_mode": {
    "name": "ipython",
    "version": 3
   },
   "file_extension": ".py",
   "mimetype": "text/x-python",
   "name": "python",
   "nbconvert_exporter": "python",
   "pygments_lexer": "ipython3",
   "version": "3.10.5"
  }
 },
 "nbformat": 4,
 "nbformat_minor": 5
}
