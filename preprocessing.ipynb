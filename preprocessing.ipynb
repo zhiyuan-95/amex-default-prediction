{
 "cells": [
  {
   "cell_type": "code",
   "execution_count": 1,
   "id": "80fa8d2c",
   "metadata": {},
   "outputs": [],
   "source": [
    "import numpy as np\n",
    "import pandas as pd\n",
    "import time\n",
    "import csv"
   ]
  },
  {
   "cell_type": "code",
   "execution_count": 2,
   "id": "2a514377",
   "metadata": {},
   "outputs": [],
   "source": [
    "TEMP = pd.read_csv(r\"C:\\Users\\johnk\\OneDrive\\Desktop\\project\\python project\\kaggle\\amex-default-prediction\\train\\train_data_0.csv\")\n",
    "old_column = TEMP.columns\n",
    "des = TEMP.describe()[1:]\n",
    "des_col = des.columns\n",
    "des_idx = des.index\n",
    "new_column = ['customer_ID']\n",
    "for x in des_idx:\n",
    "    for y in des_col:\n",
    "        new_column.append(y+\"_\"+x)\n",
    "new_column.append('target')"
   ]
  },
  {
   "cell_type": "code",
   "execution_count": 3,
   "id": "d39091b0",
   "metadata": {},
   "outputs": [],
   "source": [
    "shuffled_indices = np.random.permutation(550)"
   ]
  },
  {
   "cell_type": "code",
   "execution_count": 4,
   "id": "a7a485d8",
   "metadata": {},
   "outputs": [],
   "source": [
    "train_label = pd.read_csv('train_labels.csv')"
   ]
  },
  {
   "cell_type": "code",
   "execution_count": null,
   "id": "7b6a3827",
   "metadata": {
    "scrolled": true
   },
   "outputs": [],
   "source": [
    "for x in range(0,5):\n",
    "    start_time = time.time()\n",
    "    _10_files= []\n",
    "    for y in shuffled_indices[x:x+10]:\n",
    "        DF = pd.read_csv(r\"C:\\Users\\johnk\\OneDrive\\Desktop\\project\\python project\\kaggle\\amex-default-prediction\\train\\train_data_{0}.csv\".format(y))\n",
    "        DF.columns = old_column\n",
    "        _10_files.append(DF)\n",
    "    df = pd.concat(_10_files, axis=0)\n",
    "    customers = df.iloc[:,0].value_counts().index\n",
    "    new_features = []\n",
    "    for z in customers:\n",
    "        i = df.loc[df['customer_ID']==z]\n",
    "        j = i.iloc[:,2:]\n",
    "        des = j.describe().iloc[1:]\n",
    "        np_des = np.array(des).reshape(1302)\n",
    "        new_features.append(np_des)\n",
    "    customer_id = pd.DataFrame(customers)\n",
    "    features_created = pd.DataFrame(new_features)\n",
    "\n",
    "    label=[]\n",
    "    for w in customers:\n",
    "        label.append(train_label.loc[train_label['customer_ID']==w]['target'].iloc[0])\n",
    "    label = pd.DataFrame(label, columns=['targe'])        \n",
    "    Data = pd.concat([customer_id,features_created,label], axis=1)\n",
    "    Data.columns = new_column\n",
    "    Data.to_csv(r'C:\\Users\\johnk\\OneDrive\\Desktop\\project\\python project\\kaggle\\amex-default-prediction\\new_train\\train_{0}.csv'.format(x), index=False)\n",
    "    print(x, end=' ')\n",
    "    print(\" %s second \" %(time.time()-start_time))"
   ]
  },
  {
   "cell_type": "markdown",
   "id": "2173fdc9",
   "metadata": {},
   "source": [
    "------"
   ]
  },
  {
   "cell_type": "code",
   "execution_count": null,
   "id": "feec0d92",
   "metadata": {},
   "outputs": [],
   "source": []
  },
  {
   "cell_type": "code",
   "execution_count": null,
   "id": "b876dd27",
   "metadata": {},
   "outputs": [],
   "source": []
  }
 ],
 "metadata": {
  "kernelspec": {
   "display_name": "Python 3 (ipykernel)",
   "language": "python",
   "name": "python3"
  },
  "language_info": {
   "codemirror_mode": {
    "name": "ipython",
    "version": 3
   },
   "file_extension": ".py",
   "mimetype": "text/x-python",
   "name": "python",
   "nbconvert_exporter": "python",
   "pygments_lexer": "ipython3",
   "version": "3.10.5"
  }
 },
 "nbformat": 4,
 "nbformat_minor": 5
}
