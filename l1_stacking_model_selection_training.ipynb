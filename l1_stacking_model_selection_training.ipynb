{
 "cells": [
  {
   "cell_type": "code",
   "execution_count": 1,
   "id": "22641fd4",
   "metadata": {},
   "outputs": [],
   "source": [
    "import pandas as pd\n",
    "import numpy as np\n",
    "from sklearn.model_selection import train_test_split\n",
    "from sklearn.ensemble import AdaBoostClassifier\n",
    "from sklearn.ensemble import GradientBoostingClassifier\n",
    "from sklearn.ensemble import RandomForestClassifier\n",
    "from sklearn.linear_model import LogisticRegression\n",
    "from sklearn.metrics import roc_auc_score\n",
    "import time\n",
    "import csv"
   ]
  },
  {
   "cell_type": "code",
   "execution_count": 113,
   "id": "b3942d87",
   "metadata": {},
   "outputs": [],
   "source": [
    "def level_1_predictor(t_train,y, model):\n",
    "    leng = int(len(t_train)/2)\n",
    "    t_a, t_b= t_train[:leng], t_train[leng:]\n",
    "    tg_a, tg_b = y[:leng], y[leng:]\n",
    "    if model == LogisticRegression:\n",
    "        m1 = model(max_iter = 20**9)\n",
    "        m2 = model(max_iter = 20**9)\n",
    "    else:\n",
    "        m1 = model()\n",
    "        m2 = model()\n",
    "\n",
    "    m1.fit(t_a,tg_a)\n",
    "    tp_b = [i[1] for i in m1.predict_proba(t_b)]\n",
    "    m2.fit(t_b,tg_b)\n",
    "    tp_a = [i[1] for i in m2.predict_proba(t_a)]\n",
    "    tp = [[x] for x in np.hstack((tp_a,tp_b))]\n",
    "    \n",
    "    return tp"
   ]
  },
  {
   "cell_type": "code",
   "execution_count": 127,
   "id": "d18aabf6",
   "metadata": {
    "scrolled": false
   },
   "outputs": [],
   "source": [
    "def get_important_feature(model,s=1):\n",
    "    file = pd.read_csv('important_l1.csv')\n",
    "    feature_name = file.columns\n",
    "    if model == GradientBoostingClassifier:\n",
    "        importance = file.iloc[0]\n",
    "    if model == LogisticRegression:\n",
    "        importance = file.iloc[1]\n",
    "    itr = 0\n",
    "    important_feature = []\n",
    "    unimportant_feature = []\n",
    "    for x in importance.iloc[0]:\n",
    "        if x>s:\n",
    "            important_feature.append(feature_name[itr])\n",
    "        else:\n",
    "            unimportant_feature.append(feature_name[itr])\n",
    "        itr+=1\n",
    "    return important_feature, unimportant_feature"
   ]
  },
  {
   "cell_type": "code",
   "execution_count": 128,
   "id": "446f3ee9",
   "metadata": {},
   "outputs": [],
   "source": [
    "def categorize_important_feature(model):\n",
    "    important_feature, unimportant_feature = get_important_feature(model)\n",
    "    delinquency=[]\n",
    "    spend = []\n",
    "    payment = []\n",
    "    balance = []\n",
    "    risk = []\n",
    "    std = []\n",
    "    mean = []\n",
    "    _25 = []\n",
    "    _50 = []\n",
    "    _75 = []\n",
    "    _min = []\n",
    "    _max = []\n",
    "\n",
    "    for x in important_feature:\n",
    "        if x[0]=='D':\n",
    "            delinquency.append(x)\n",
    "        if x[0]=='S':\n",
    "            spend.append(x)\n",
    "        if x[0]=='P':\n",
    "            payment.append(x)\n",
    "        if x[0]=='B':\n",
    "            balance.append(x)\n",
    "        if x[0]=='R':\n",
    "            risk.append(x)\n",
    "        if x[-3:]=='std':\n",
    "            std.append(x)\n",
    "        elif x[-3:]=='25%':\n",
    "            _25.append(x)\n",
    "        elif x[-3:]=='75%':\n",
    "            _75.append(x)\n",
    "        elif x[-3:]=='50%':\n",
    "            _50.append(x)\n",
    "        elif x[-3:]=='min':\n",
    "            _min.append(x)\n",
    "        elif x[-3:]=='max':\n",
    "            _max.append(x)\n",
    "        else:\n",
    "            mean.append(x)  \n",
    "    feature_sets = {'delinquency':delinquency,'spend':spend,'payment':payment,'balance':balance,'risk':risk,'std':std,\n",
    "                    'mean':mean,'_25':_25,'_50':_50,'_75':_75,'_min':_min,'_max':_max, 'unimportant_fe':unimportant_feature}\n",
    "    return feature_sets"
   ]
  },
  {
   "cell_type": "code",
   "execution_count": 129,
   "id": "60b1606e",
   "metadata": {},
   "outputs": [],
   "source": [
    "# I use the best prediction from one of the models to stack.\n",
    "def training_stacker(feature, model):\n",
    "    feature_sets = categorize_important_feature(model)\n",
    "    column_name = list(feature_sets.keys())\n",
    "    itr = 0\n",
    "    dic_out = {}\n",
    "    for y in column_name:\n",
    "        stacking_feature = np.array(feature[feature_sets[y]])\n",
    "        print('--',column_name[itr], end= ' ')\n",
    "        score_set = {}\n",
    "        for x in models:\n",
    "            l1_pred = level_1_predictor(stacking_feature,np_label.T[0], x)\n",
    "            score = roc_auc_score(np_label,l1_pred)\n",
    "            model_name = x.__name__\n",
    "            score_set[str(score)]=model_name\n",
    "        model_for_stacking = score_set[str(max([float(x) for x in score_set.keys()]))]\n",
    "        print(model_for_stacking)\n",
    "        dic_out[y]=[model_for_stacking]\n",
    "        itr+=1\n",
    "    temp = pd.DataFrame(dic_out)\n",
    "    if model == GradientBoostingClassifier:\n",
    "        model_for_stacking_file = pd.read_csv('l1_stacking_model_G.csv')\n",
    "        model_for_stacking_file = pd.concat((model_for_stacking_file,temp), axis = 0)\n",
    "        model_for_stacking_file.to_csv('l1_stacking_model_G.csv', index = False)\n",
    "    if model == LogisticRegression:\n",
    "        model_for_stacking_file = pd.read_csv('l1_stacking_model_L.csv')\n",
    "        model_for_stacking_file = pd.concat((model_for_stacking_file,temp), axis = 0)\n",
    "        model_for_stacking_file.to_csv('l1_stacking_model_L.csv', index = False)        \n",
    "#GGLGRGLLLLLL\n",
    "#GGLGRGLLLLGL"
   ]
  },
  {
   "cell_type": "code",
   "execution_count": 130,
   "id": "9d9d078b",
   "metadata": {},
   "outputs": [],
   "source": [
    "model_for_stacking_file = pd.read_csv('model_for_stacking_l1.csv')\n"
   ]
  },
  {
   "cell_type": "code",
   "execution_count": 131,
   "id": "123d3cb5",
   "metadata": {},
   "outputs": [],
   "source": [
    "model_for_stacking_file.to_csv('l1_stacking_model_G.csv', index = False)"
   ]
  },
  {
   "cell_type": "code",
   "execution_count": 132,
   "id": "c2d82620",
   "metadata": {},
   "outputs": [],
   "source": [
    "t = pd.DataFrame(columns = model_for_stacking_file.columns)"
   ]
  },
  {
   "cell_type": "code",
   "execution_count": 133,
   "id": "a8fa7a09",
   "metadata": {},
   "outputs": [],
   "source": [
    "t.to_csv('l1_stacking_model_L.csv', index = False)"
   ]
  },
  {
   "cell_type": "code",
   "execution_count": 134,
   "id": "8adee971",
   "metadata": {},
   "outputs": [],
   "source": [
    "models = [GradientBoostingClassifier,RandomForestClassifier,LogisticRegression]"
   ]
  },
  {
   "cell_type": "code",
   "execution_count": 135,
   "id": "f9b7a721",
   "metadata": {},
   "outputs": [
    {
     "ename": "TypeError",
     "evalue": "'numpy.int64' object is not iterable",
     "output_type": "error",
     "traceback": [
      "\u001b[1;31m---------------------------------------------------------------------------\u001b[0m",
      "\u001b[1;31mTypeError\u001b[0m                                 Traceback (most recent call last)",
      "Input \u001b[1;32mIn [135]\u001b[0m, in \u001b[0;36m<module>\u001b[1;34m\u001b[0m\n\u001b[0;32m      7\u001b[0m label \u001b[38;5;241m=\u001b[39m pd\u001b[38;5;241m.\u001b[39mDataFrame(df[\u001b[38;5;124m'\u001b[39m\u001b[38;5;124mtarget\u001b[39m\u001b[38;5;124m'\u001b[39m], columns\u001b[38;5;241m=\u001b[39m[\u001b[38;5;124m'\u001b[39m\u001b[38;5;124mtarget\u001b[39m\u001b[38;5;124m'\u001b[39m])\n\u001b[0;32m      8\u001b[0m np_label \u001b[38;5;241m=\u001b[39m np\u001b[38;5;241m.\u001b[39marray(label)\n\u001b[1;32m----> 9\u001b[0m \u001b[43mtraining_stacker\u001b[49m\u001b[43m(\u001b[49m\u001b[43mfeature\u001b[49m\u001b[43m,\u001b[49m\u001b[43mLogisticRegression\u001b[49m\u001b[43m)\u001b[49m\n\u001b[0;32m     10\u001b[0m \u001b[38;5;28mprint\u001b[39m(file, end\u001b[38;5;241m=\u001b[39m\u001b[38;5;124m'\u001b[39m\u001b[38;5;124m \u001b[39m\u001b[38;5;124m'\u001b[39m)\n\u001b[0;32m     11\u001b[0m \u001b[38;5;28mprint\u001b[39m(\u001b[38;5;124m\"\u001b[39m\u001b[38;5;124m \u001b[39m\u001b[38;5;132;01m%s\u001b[39;00m\u001b[38;5;124m second \u001b[39m\u001b[38;5;124m\"\u001b[39m \u001b[38;5;241m%\u001b[39m(time\u001b[38;5;241m.\u001b[39mtime()\u001b[38;5;241m-\u001b[39mstart_time))\n",
      "Input \u001b[1;32mIn [129]\u001b[0m, in \u001b[0;36mtraining_stacker\u001b[1;34m(feature, model)\u001b[0m\n\u001b[0;32m      2\u001b[0m \u001b[38;5;28;01mdef\u001b[39;00m \u001b[38;5;21mtraining_stacker\u001b[39m(feature, model):\n\u001b[1;32m----> 3\u001b[0m     feature_sets \u001b[38;5;241m=\u001b[39m \u001b[43mcategorize_important_feature\u001b[49m\u001b[43m(\u001b[49m\u001b[43mmodel\u001b[49m\u001b[43m)\u001b[49m\n\u001b[0;32m      4\u001b[0m     column_name \u001b[38;5;241m=\u001b[39m \u001b[38;5;28mlist\u001b[39m(feature_sets\u001b[38;5;241m.\u001b[39mkeys())\n\u001b[0;32m      5\u001b[0m     itr \u001b[38;5;241m=\u001b[39m \u001b[38;5;241m0\u001b[39m\n",
      "Input \u001b[1;32mIn [128]\u001b[0m, in \u001b[0;36mcategorize_important_feature\u001b[1;34m(model)\u001b[0m\n\u001b[0;32m      1\u001b[0m \u001b[38;5;28;01mdef\u001b[39;00m \u001b[38;5;21mcategorize_important_feature\u001b[39m(model):\n\u001b[1;32m----> 2\u001b[0m     important_feature, unimportant_feature \u001b[38;5;241m=\u001b[39m \u001b[43mget_important_feature\u001b[49m\u001b[43m(\u001b[49m\u001b[43mmodel\u001b[49m\u001b[43m)\u001b[49m\n\u001b[0;32m      3\u001b[0m     delinquency\u001b[38;5;241m=\u001b[39m[]\n\u001b[0;32m      4\u001b[0m     spend \u001b[38;5;241m=\u001b[39m []\n",
      "Input \u001b[1;32mIn [127]\u001b[0m, in \u001b[0;36mget_important_feature\u001b[1;34m(model, s)\u001b[0m\n\u001b[0;32m      9\u001b[0m important_feature \u001b[38;5;241m=\u001b[39m []\n\u001b[0;32m     10\u001b[0m unimportant_feature \u001b[38;5;241m=\u001b[39m []\n\u001b[1;32m---> 11\u001b[0m \u001b[38;5;28;01mfor\u001b[39;00m x \u001b[38;5;129;01min\u001b[39;00m importance\u001b[38;5;241m.\u001b[39miloc[\u001b[38;5;241m0\u001b[39m]:\n\u001b[0;32m     12\u001b[0m     \u001b[38;5;28;01mif\u001b[39;00m x\u001b[38;5;241m>\u001b[39ms:\n\u001b[0;32m     13\u001b[0m         important_feature\u001b[38;5;241m.\u001b[39mappend(feature_name[itr])\n",
      "\u001b[1;31mTypeError\u001b[0m: 'numpy.int64' object is not iterable"
     ]
    }
   ],
   "source": [
    "for file in range(0,6):\n",
    "    start_time = time.time()\n",
    "    df = pd.read_csv(r'C:\\Users\\johnk\\OneDrive\\Desktop\\project\\python project\\kaggle\\amex-default-prediction\\new_train\\train_{0}.csv'.format(file))\n",
    "    feature = df.iloc[:,1:-1]\n",
    "    for y in feature_name:\n",
    "        feature[y]=feature[y].fillna(feature[y].mean())\n",
    "    label = pd.DataFrame(df['target'], columns=['target'])\n",
    "    np_label = np.array(label)\n",
    "    training_stacker(feature,LogisticRegression)\n",
    "    print(file, end=' ')\n",
    "    print(\" %s second \" %(time.time()-start_time))"
   ]
  },
  {
   "cell_type": "code",
   "execution_count": 139,
   "id": "dafd3a1b",
   "metadata": {},
   "outputs": [
    {
     "ename": "TypeError",
     "evalue": "'numpy.int64' object is not iterable",
     "output_type": "error",
     "traceback": [
      "\u001b[1;31m---------------------------------------------------------------------------\u001b[0m",
      "\u001b[1;31mTypeError\u001b[0m                                 Traceback (most recent call last)",
      "Input \u001b[1;32mIn [139]\u001b[0m, in \u001b[0;36m<module>\u001b[1;34m\u001b[0m\n\u001b[1;32m----> 1\u001b[0m \u001b[43mget_important_feature\u001b[49m\u001b[43m(\u001b[49m\u001b[43mLogisticRegression\u001b[49m\u001b[43m)\u001b[49m\n",
      "Input \u001b[1;32mIn [127]\u001b[0m, in \u001b[0;36mget_important_feature\u001b[1;34m(model, s)\u001b[0m\n\u001b[0;32m      9\u001b[0m important_feature \u001b[38;5;241m=\u001b[39m []\n\u001b[0;32m     10\u001b[0m unimportant_feature \u001b[38;5;241m=\u001b[39m []\n\u001b[1;32m---> 11\u001b[0m \u001b[38;5;28;01mfor\u001b[39;00m x \u001b[38;5;129;01min\u001b[39;00m importance\u001b[38;5;241m.\u001b[39miloc[\u001b[38;5;241m0\u001b[39m]:\n\u001b[0;32m     12\u001b[0m     \u001b[38;5;28;01mif\u001b[39;00m x\u001b[38;5;241m>\u001b[39ms:\n\u001b[0;32m     13\u001b[0m         important_feature\u001b[38;5;241m.\u001b[39mappend(feature_name[itr])\n",
      "\u001b[1;31mTypeError\u001b[0m: 'numpy.int64' object is not iterable"
     ]
    }
   ],
   "source": [
    "get_important_feature(LogisticRegression)"
   ]
  },
  {
   "cell_type": "code",
   "execution_count": 143,
   "id": "c0a38e4b",
   "metadata": {},
   "outputs": [
    {
     "data": {
      "text/plain": [
       "P_2_mean     0\n",
       "D_39_mean    1\n",
       "B_1_mean     0\n",
       "B_2_mean     0\n",
       "R_1_mean     1\n",
       "            ..\n",
       "D_141_max    0\n",
       "D_142_max    0\n",
       "D_143_max    0\n",
       "D_144_max    0\n",
       "D_145_max    0\n",
       "Name: 0, Length: 1302, dtype: int64"
      ]
     },
     "execution_count": 143,
     "metadata": {},
     "output_type": "execute_result"
    }
   ],
   "source": [
    "importance.iloc[0]"
   ]
  },
  {
   "cell_type": "code",
   "execution_count": 142,
   "id": "9cadea85",
   "metadata": {},
   "outputs": [
    {
     "data": {
      "text/html": [
       "<div>\n",
       "<style scoped>\n",
       "    .dataframe tbody tr th:only-of-type {\n",
       "        vertical-align: middle;\n",
       "    }\n",
       "\n",
       "    .dataframe tbody tr th {\n",
       "        vertical-align: top;\n",
       "    }\n",
       "\n",
       "    .dataframe thead th {\n",
       "        text-align: right;\n",
       "    }\n",
       "</style>\n",
       "<table border=\"1\" class=\"dataframe\">\n",
       "  <thead>\n",
       "    <tr style=\"text-align: right;\">\n",
       "      <th></th>\n",
       "      <th>P_2_mean</th>\n",
       "      <th>D_39_mean</th>\n",
       "      <th>B_1_mean</th>\n",
       "      <th>B_2_mean</th>\n",
       "      <th>R_1_mean</th>\n",
       "      <th>S_3_mean</th>\n",
       "      <th>D_41_mean</th>\n",
       "      <th>B_3_mean</th>\n",
       "      <th>D_42_mean</th>\n",
       "      <th>D_43_mean</th>\n",
       "      <th>...</th>\n",
       "      <th>D_136_max</th>\n",
       "      <th>D_137_max</th>\n",
       "      <th>D_138_max</th>\n",
       "      <th>D_139_max</th>\n",
       "      <th>D_140_max</th>\n",
       "      <th>D_141_max</th>\n",
       "      <th>D_142_max</th>\n",
       "      <th>D_143_max</th>\n",
       "      <th>D_144_max</th>\n",
       "      <th>D_145_max</th>\n",
       "    </tr>\n",
       "  </thead>\n",
       "  <tbody>\n",
       "    <tr>\n",
       "      <th>0</th>\n",
       "      <td>0</td>\n",
       "      <td>1</td>\n",
       "      <td>0</td>\n",
       "      <td>0</td>\n",
       "      <td>1</td>\n",
       "      <td>0</td>\n",
       "      <td>0</td>\n",
       "      <td>0</td>\n",
       "      <td>1</td>\n",
       "      <td>1</td>\n",
       "      <td>...</td>\n",
       "      <td>0</td>\n",
       "      <td>0</td>\n",
       "      <td>0</td>\n",
       "      <td>0</td>\n",
       "      <td>0</td>\n",
       "      <td>0</td>\n",
       "      <td>0</td>\n",
       "      <td>0</td>\n",
       "      <td>0</td>\n",
       "      <td>0</td>\n",
       "    </tr>\n",
       "  </tbody>\n",
       "</table>\n",
       "<p>1 rows × 1302 columns</p>\n",
       "</div>"
      ],
      "text/plain": [
       "   P_2_mean  D_39_mean  B_1_mean  B_2_mean  R_1_mean  S_3_mean  D_41_mean  \\\n",
       "0         0          1         0         0         1         0          0   \n",
       "\n",
       "   B_3_mean  D_42_mean  D_43_mean  ...  D_136_max  D_137_max  D_138_max  \\\n",
       "0         0          1          1  ...          0          0          0   \n",
       "\n",
       "   D_139_max  D_140_max  D_141_max  D_142_max  D_143_max  D_144_max  D_145_max  \n",
       "0          0          0          0          0          0          0          0  \n",
       "\n",
       "[1 rows x 1302 columns]"
      ]
     },
     "execution_count": 142,
     "metadata": {},
     "output_type": "execute_result"
    }
   ],
   "source": [
    "importance"
   ]
  }
 ],
 "metadata": {
  "kernelspec": {
   "display_name": "Python 3 (ipykernel)",
   "language": "python",
   "name": "python3"
  },
  "language_info": {
   "codemirror_mode": {
    "name": "ipython",
    "version": 3
   },
   "file_extension": ".py",
   "mimetype": "text/x-python",
   "name": "python",
   "nbconvert_exporter": "python",
   "pygments_lexer": "ipython3",
   "version": "3.10.5"
  }
 },
 "nbformat": 4,
 "nbformat_minor": 5
}
