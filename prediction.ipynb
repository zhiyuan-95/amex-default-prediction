{
 "cells": [
  {
   "cell_type": "code",
   "execution_count": 76,
   "id": "17ca9c3b",
   "metadata": {},
   "outputs": [],
   "source": [
    "import pandas as pd\n",
    "import numpy as np\n",
    "from sklearn.model_selection import train_test_split\n",
    "from sklearn.ensemble import GradientBoostingClassifier\n",
    "from sklearn.ensemble import RandomForestClassifier\n",
    "from sklearn.linear_model import LogisticRegression\n",
    "from sklearn.metrics import roc_auc_score\n",
    "import time\n",
    "import csv"
   ]
  },
  {
   "cell_type": "code",
   "execution_count": 77,
   "id": "ba6d494d",
   "metadata": {},
   "outputs": [],
   "source": [
    "def level_1_predictor(t_train,y, model):\n",
    "    leng = int(len(t_train)/2)\n",
    "    t_a, t_b= t_train[:leng], t_train[leng:]\n",
    "    tg_a, tg_b = y[:leng], y[leng:]\n",
    "    if model == LogisticRegression:\n",
    "        m1 = model(max_iter = 20**9)\n",
    "        m2 = model(max_iter = 20**9)\n",
    "    else:\n",
    "        m1 = model()\n",
    "        m2 = model()\n",
    "\n",
    "    m1.fit(t_a,tg_a)\n",
    "    tp_b = [i[1] for i in m1.predict_proba(t_b)]\n",
    "    m2.fit(t_b,tg_b)\n",
    "    tp_a = [i[1] for i in m2.predict_proba(t_a)]\n",
    "    tp = [x for x in np.hstack((tp_a,tp_b))]\n",
    "    \n",
    "    return tp"
   ]
  },
  {
   "cell_type": "code",
   "execution_count": 78,
   "id": "72f7cb21",
   "metadata": {},
   "outputs": [],
   "source": [
    "def retrieve_important_feature(s,m):\n",
    "    file = pd.read_csv('important_l1.csv')\n",
    "    feature_name = file.columns\n",
    "    if m=='G':\n",
    "        importance = file.iloc[0]\n",
    "    if m=='L':\n",
    "        importance = file.iloc[1]\n",
    "    itr = 0\n",
    "    important_feature = []\n",
    "    unimportant_feature = []\n",
    "    for x in importance:\n",
    "        if x>s:\n",
    "            important_feature.append(feature_name[itr])\n",
    "        else:\n",
    "            unimportant_feature.append(feature_name[itr])\n",
    "        itr+=1\n",
    "    return important_feature, unimportant_feature"
   ]
  },
  {
   "cell_type": "code",
   "execution_count": 79,
   "id": "d614a319",
   "metadata": {},
   "outputs": [],
   "source": [
    "def categorize_important_feature(important_feature, unimportant_feature):\n",
    "    delinquency=[]\n",
    "    spend = []\n",
    "    payment = []\n",
    "    balance = []\n",
    "    risk = []\n",
    "    std = []\n",
    "    mean = []\n",
    "    _25 = []\n",
    "    _50 = []\n",
    "    _75 = []\n",
    "    _min = []\n",
    "    _max = []\n",
    "\n",
    "    for x in important_feature:\n",
    "        if x[0]=='D':\n",
    "            delinquency.append(x)\n",
    "        if x[0]=='S':\n",
    "            spend.append(x)\n",
    "        if x[0]=='P':\n",
    "            payment.append(x)\n",
    "        if x[0]=='B':\n",
    "            balance.append(x)\n",
    "        if x[0]=='R':\n",
    "            risk.append(x)\n",
    "        if x[-3:]=='std':\n",
    "            std.append(x)\n",
    "        elif x[-3:]=='25%':\n",
    "            _25.append(x)\n",
    "        elif x[-3:]=='75%':\n",
    "            _75.append(x)\n",
    "        elif x[-3:]=='50%':\n",
    "            _50.append(x)\n",
    "        elif x[-3:]=='min':\n",
    "            _min.append(x)\n",
    "        elif x[-3:]=='max':\n",
    "            _max.append(x)\n",
    "        else:\n",
    "            mean.append(x)  \n",
    "    feature_sets = {'delinquency':delinquency,'spend':spend,'payment':payment,'balance':balance,'risk':risk,'std':std,\n",
    "                    'mean':mean,'_25':_25,'_50':_50,'_75':_75,'_min':_min,'_max':_max}\n",
    "    return feature_sets"
   ]
  },
  {
   "cell_type": "code",
   "execution_count": 80,
   "id": "3f863d9d",
   "metadata": {},
   "outputs": [],
   "source": [
    "class amex_default_prediction:\n",
    "    def __init__(self,n):\n",
    "        self._feature_importance = pd.read_csv('important_l1.csv')\n",
    "        self._feature_name = self._feature_importance.columns\n",
    "        self._impt_fe, self._unimpt_fe= retrieve_important_feature(n,'G')\n",
    "        self._impt_fe_train = None\n",
    "        self._feature_sets = categorize_important_feature(self._impt_fe, self._unimpt_fe)\n",
    "        self._models = [LogisticRegression,GradientBoostingClassifier,RandomForestClassifier]\n",
    "        self._model_dic = {}\n",
    "        for x in self._models:\n",
    "            self._model_dic[x.__name__] = x\n",
    "        self._train_l1 = None\n",
    "        self._feature_l2 = None\n",
    "        self._label = None\n",
    "        self._stacking_train = None\n",
    "        self._fitted_models_l1 = None\n",
    "        self._fitted_model_l2 = None\n",
    "        self._test_l1 = None\n",
    "        self._test_l2 = None\n",
    "        self._stacked_test = None\n",
    "        self._prediction = None\n",
    "    def fillNa(self, data):\n",
    "        feature = data\n",
    "        for x in data.columns:\n",
    "            feature[x]=feature[x].fillna(feature[x].mean())\n",
    "        return feature\n",
    "    def fit(self, train, label,model):\n",
    "        self._train_l1 = self.fillNa(train)\n",
    "        self._label = np.array(label).T\n",
    "        self._stacking_train, self._fitted_models_l1 = stacker(self._train_l1,self._label,self._feature_sets, self._model_dic)\n",
    "        self._impt_fe_train = self._train_l1[self._impt_fe]\n",
    "        self._train_l2 = pd.concat([self._impt_fe_train,self._stacking_train], axis = 1)        \n",
    "        self._fitted_model_l2 = model()\n",
    "        self._fitted_model_l2.fit(self._train_l2, self._label)\n",
    "    def predict(self, test):\n",
    "        self._test_l1 = self.fillNa(test)\n",
    "        self._stacked_test = stacker_for_testSet(self._test_l1,self._feature_sets,self._fitted_models_l1)\n",
    "        self._impt_fe_test = self._test_l1[self._impt_fe]\n",
    "        self._test_l2 = pd.concat([self._impt_fe_test,self._stacked_test], axis = 1)\n",
    "        self._prediction = self._fitted_model_l2.predict(self._test_l2)\n",
    "        return self._prediction\n",
    "    def predict_proba(self, test):\n",
    "        self._test_l1 = self.fillNa(test)\n",
    "        self._stacked_test = stacker_for_testSet(self._test_l1,self._feature_sets,self._fitted_models_l1)\n",
    "        self._impt_fe_test = self._test_l1[self._impt_fe]\n",
    "        self._test_l2 = pd.concat([self._impt_fe_test,self._stacked_test], axis = 1)\n",
    "        self._prediction = self._fitted_model_l2.predict_proba(self._test_l2)\n",
    "        return self._prediction        "
   ]
  },
  {
   "cell_type": "code",
   "execution_count": 81,
   "id": "b03b5412",
   "metadata": {},
   "outputs": [],
   "source": [
    "def stacker(feature,np_label,feature_sets,model_dic,m='G'):\n",
    "    column_name = list(feature_sets.keys())\n",
    "    if m=='G':\n",
    "        r = pd.read_csv('l1_stacking_model_G.csv')\n",
    "    if m=='L':\n",
    "        r = pd.read_csv('l1_stacking_model_L.csv')\n",
    "    stack_feature = pd.DataFrame(columns = column_name)\n",
    "    fitted_model = {}\n",
    "    for x in column_name:\n",
    "        best_stacking_model = model_dic[r[x].value_counts().keys()[0]]\n",
    "        stacking_feature = np.array(feature[feature_sets[x]])\n",
    "        stack_feature[x] = level_1_predictor(stacking_feature,np_label, best_stacking_model)\n",
    "        if best_stacking_model==LogisticRegression:\n",
    "            md = best_stacking_model(max_iter = 20**9)\n",
    "            md.fit(stacking_feature, np_label)\n",
    "            fitted_model[x]=md\n",
    "        else:\n",
    "            md = best_stacking_model()\n",
    "            md.fit(stacking_feature, np_label)\n",
    "            fitted_model[x]=md\n",
    "        print(best_stacking_model.__name__[0], end = ' ')\n",
    "    return stack_feature, fitted_model"
   ]
  },
  {
   "cell_type": "code",
   "execution_count": 82,
   "id": "7d727bc5",
   "metadata": {},
   "outputs": [],
   "source": [
    "def stacker_for_testSet(feature,feature_sets,fitted_models_l1):\n",
    "    column_name = list(feature_sets.keys())\n",
    "    stack_feature = pd.DataFrame(columns = column_name)\n",
    "    for x in column_name:\n",
    "        i = np.array(feature[feature_sets[x]])\n",
    "        stack_feature[x] = [x[1] for x in fitted_models_l1[x].predict_proba(i)]\n",
    "    return stack_feature"
   ]
  },
  {
   "cell_type": "markdown",
   "id": "0ad26e46",
   "metadata": {},
   "source": [
    "### test"
   ]
  },
  {
   "cell_type": "code",
   "execution_count": 83,
   "id": "54f58b7d",
   "metadata": {},
   "outputs": [],
   "source": [
    "from sklearn.preprocessing import StandardScaler\n",
    "def stder(X):\n",
    "    cols = X.columns\n",
    "    stder = StandardScaler(copy=True, with_mean = True, with_std = True)\n",
    "    stder.fit(X)\n",
    "    return pd.DataFrame(stder.transform(X), columns = cols)"
   ]
  },
  {
   "cell_type": "code",
   "execution_count": 84,
   "id": "95404383",
   "metadata": {},
   "outputs": [],
   "source": [
    "def get_data(a,b,n):\n",
    "    shuffled_indices = np.random.permutation([x for x in range(a,b)])\n",
    "    file = []\n",
    "    for x in shuffled_indices[:n]:\n",
    "        file.append(pd.read_csv(r'C:\\Users\\johnk\\OneDrive\\Desktop\\project\\python project\\kaggle\\amex-default-prediction\\new_train\\train_{0}.csv'.format(x)))\n",
    "    data_set = pd.concat(file, axis = 0)\n",
    "    data_set.index = [x for x in range(data_set.shape[0])]\n",
    "    feature = data_set.iloc[:, 1:-1]\n",
    "    label = data_set['target']\n",
    "    return feature, label"
   ]
  },
  {
   "cell_type": "code",
   "execution_count": 95,
   "id": "5337abe5",
   "metadata": {},
   "outputs": [],
   "source": [
    "training_feature, training_label = get_data(0,40,10)\n",
    "\n",
    "training_feature_std = stder(training_feature)"
   ]
  },
  {
   "cell_type": "code",
   "execution_count": 96,
   "id": "68099126",
   "metadata": {},
   "outputs": [
    {
     "name": "stdout",
     "output_type": "stream",
     "text": [
      "G G L G R G G L G L G L 847.2247939109802\n"
     ]
    }
   ],
   "source": [
    "start_time = time.time()\n",
    "ame = amex_default_prediction(10)\n",
    "ame.fit(training_feature, training_label,GradientBoostingClassifier)\n",
    "print(time.time()-start_time)"
   ]
  },
  {
   "cell_type": "code",
   "execution_count": 87,
   "id": "12341b6d",
   "metadata": {},
   "outputs": [],
   "source": [
    "test_feature, test_label = get_data(20,40,10)\n",
    "test_feature_std = stder(test_feature)"
   ]
  },
  {
   "cell_type": "code",
   "execution_count": 88,
   "id": "a2694178",
   "metadata": {},
   "outputs": [
    {
     "name": "stdout",
     "output_type": "stream",
     "text": [
      "0.8571301715655946 279.3275761604309\n"
     ]
    }
   ],
   "source": [
    "start_time = time.time()\n",
    "prediction1 = ame.predict(test_feature)\n",
    "score1 = roc_auc_score(test_label, prediction1)\n",
    "print(score1, time.time()-start_time)"
   ]
  },
  {
   "cell_type": "code",
   "execution_count": 89,
   "id": "e6e3d897",
   "metadata": {},
   "outputs": [],
   "source": [
    "#0.8525062807324651\n",
    "#0.8073017488850901"
   ]
  },
  {
   "cell_type": "code",
   "execution_count": 90,
   "id": "37a4f089",
   "metadata": {},
   "outputs": [
    {
     "name": "stdout",
     "output_type": "stream",
     "text": [
      "G G L G R G G L G L G L "
     ]
    }
   ],
   "source": [
    "ame_std = amex_default_prediction(10)\n",
    "ame_std.fit(training_feature_std, training_label,GradientBoostingClassifier )"
   ]
  },
  {
   "cell_type": "code",
   "execution_count": 91,
   "id": "0643eb1a",
   "metadata": {},
   "outputs": [
    {
     "name": "stdout",
     "output_type": "stream",
     "text": [
      "0.8612580565205188\n"
     ]
    }
   ],
   "source": [
    "start_time = time.time()\n",
    "prediction2 = ame_std.predict(test_feature_std)\n",
    "score2 = roc_auc_score(test_label, prediction2)\n",
    "print(score2, time.time()-start_time)"
   ]
  },
  {
   "cell_type": "code",
   "execution_count": null,
   "id": "63793f80",
   "metadata": {},
   "outputs": [],
   "source": [
    "df_score = pd.DataFrame(columns = ['G','L'])"
   ]
  },
  {
   "cell_type": "code",
   "execution_count": null,
   "id": "7e3846e6",
   "metadata": {},
   "outputs": [],
   "source": [
    "for x in range(3,15):\n",
    "    start_time = time.time()\n",
    "    ame_i = amex_default_prediction(x)\n",
    "    ame_i.fit(training_feature,training_label,GradientBoostingClassifier)\n",
    "    prediction = ame_i.predict(test_feature)\n",
    "    score_i = roc_auc_score(test_label, prediction)\n",
    "    df_score.loc[x,'G'] = score_i\n",
    "    print(x,time.time()-start_time)"
   ]
  },
  {
   "cell_type": "code",
   "execution_count": null,
   "id": "66248a9f",
   "metadata": {},
   "outputs": [],
   "source": []
  },
  {
   "cell_type": "markdown",
   "id": "d1a92a1f",
   "metadata": {},
   "source": [
    "### predict"
   ]
  },
  {
   "cell_type": "code",
   "execution_count": 113,
   "id": "c376967f",
   "metadata": {},
   "outputs": [],
   "source": [
    "f = pd.DataFrame(columns = ['customer_ID','prediction'])\n",
    "f.to_csv('prediction.csv', index = False)"
   ]
  },
  {
   "cell_type": "code",
   "execution_count": 117,
   "id": "cd5be7eb",
   "metadata": {},
   "outputs": [
    {
     "name": "stdout",
     "output_type": "stream",
     "text": [
      "56 "
     ]
    }
   ],
   "source": [
    "for x in range(56,57):\n",
    "    df_test = pd.read_csv(r'C:\\Users\\johnk\\OneDrive\\Desktop\\project\\python project\\kaggle\\amex-default-prediction\\transformed_test\\test_{0}.csv'.format(x))\n",
    "    feature = df_test.iloc[:,1:]\n",
    "    customer_id = df_test['customer_ID']\n",
    "    prediction = ame.predict(feature)\n",
    "    output = pd.DataFrame(columns = ['customer_ID','prediction'])\n",
    "    output['customer_ID'] = customer_id\n",
    "    output['prediction'] = prediction\n",
    "    old_file = pd.read_csv('prediction.csv')\n",
    "    new_file = pd.concat([old_file,output], axis = 0)\n",
    "    new_file.to_csv('prediction.csv', index = False)\n",
    "    print(x, end= ' ')"
   ]
  },
  {
   "cell_type": "code",
   "execution_count": 120,
   "id": "1df31b2e",
   "metadata": {},
   "outputs": [
    {
     "data": {
      "text/plain": [
       "1299004"
      ]
     },
     "execution_count": 120,
     "metadata": {},
     "output_type": "execute_result"
    }
   ],
   "source": [
    "new_file.shape[0]"
   ]
  },
  {
   "cell_type": "code",
   "execution_count": 121,
   "id": "03b579c8",
   "metadata": {},
   "outputs": [],
   "source": [
    "i = new_file.drop_duplicates(subset='customer_ID')"
   ]
  },
  {
   "cell_type": "code",
   "execution_count": 124,
   "id": "91ffb6b0",
   "metadata": {},
   "outputs": [],
   "source": [
    "i.to_csv('prediction.csv', index = False)"
   ]
  },
  {
   "cell_type": "code",
   "execution_count": 123,
   "id": "aafe4dc5",
   "metadata": {},
   "outputs": [
    {
     "data": {
      "text/html": [
       "<div>\n",
       "<style scoped>\n",
       "    .dataframe tbody tr th:only-of-type {\n",
       "        vertical-align: middle;\n",
       "    }\n",
       "\n",
       "    .dataframe tbody tr th {\n",
       "        vertical-align: top;\n",
       "    }\n",
       "\n",
       "    .dataframe thead th {\n",
       "        text-align: right;\n",
       "    }\n",
       "</style>\n",
       "<table border=\"1\" class=\"dataframe\">\n",
       "  <thead>\n",
       "    <tr style=\"text-align: right;\">\n",
       "      <th></th>\n",
       "      <th>customer_ID</th>\n",
       "      <th>prediction</th>\n",
       "    </tr>\n",
       "  </thead>\n",
       "  <tbody>\n",
       "    <tr>\n",
       "      <th>0</th>\n",
       "      <td>022038896e955592be9fd15a2c92280af0a6a6528b82e2...</td>\n",
       "      <td>0</td>\n",
       "    </tr>\n",
       "    <tr>\n",
       "      <th>1</th>\n",
       "      <td>02cb0afa52e29623c2ee458f0833969ce67118f3fa079b...</td>\n",
       "      <td>1</td>\n",
       "    </tr>\n",
       "    <tr>\n",
       "      <th>2</th>\n",
       "      <td>02cb2189daeb052be4fcd43e321729c6350baff1ddaf48...</td>\n",
       "      <td>0</td>\n",
       "    </tr>\n",
       "    <tr>\n",
       "      <th>3</th>\n",
       "      <td>02cb3afa5b7bcf5c5a1ebba986aa6e8d3730e07b87c7ea...</td>\n",
       "      <td>0</td>\n",
       "    </tr>\n",
       "    <tr>\n",
       "      <th>4</th>\n",
       "      <td>02cb3ff52cfc30d234d1d225be36f5ddcaf8a5135a98b9...</td>\n",
       "      <td>0</td>\n",
       "    </tr>\n",
       "    <tr>\n",
       "      <th>...</th>\n",
       "      <td>...</td>\n",
       "      <td>...</td>\n",
       "    </tr>\n",
       "    <tr>\n",
       "      <th>1298999</th>\n",
       "      <td>ff5077720c690e7e081bb98a27753bf2e753b493aa95d7...</td>\n",
       "      <td>0</td>\n",
       "    </tr>\n",
       "    <tr>\n",
       "      <th>1299000</th>\n",
       "      <td>ff4f8244df0510415856574029fe292cb59849bc0b1334...</td>\n",
       "      <td>0</td>\n",
       "    </tr>\n",
       "    <tr>\n",
       "      <th>1299001</th>\n",
       "      <td>fe79c3058dc562e4fa749d906d5e9896d77754eab075b5...</td>\n",
       "      <td>0</td>\n",
       "    </tr>\n",
       "    <tr>\n",
       "      <th>1299002</th>\n",
       "      <td>ff45089de47699e0400c84ef0d5c5db4e5d7c15edbd079...</td>\n",
       "      <td>0</td>\n",
       "    </tr>\n",
       "    <tr>\n",
       "      <th>1299003</th>\n",
       "      <td>fdb151e9681937b808160f7088c34548b1a1971efee068...</td>\n",
       "      <td>1</td>\n",
       "    </tr>\n",
       "  </tbody>\n",
       "</table>\n",
       "<p>1299004 rows × 2 columns</p>\n",
       "</div>"
      ],
      "text/plain": [
       "                                               customer_ID  prediction\n",
       "0        022038896e955592be9fd15a2c92280af0a6a6528b82e2...           0\n",
       "1        02cb0afa52e29623c2ee458f0833969ce67118f3fa079b...           1\n",
       "2        02cb2189daeb052be4fcd43e321729c6350baff1ddaf48...           0\n",
       "3        02cb3afa5b7bcf5c5a1ebba986aa6e8d3730e07b87c7ea...           0\n",
       "4        02cb3ff52cfc30d234d1d225be36f5ddcaf8a5135a98b9...           0\n",
       "...                                                    ...         ...\n",
       "1298999  ff5077720c690e7e081bb98a27753bf2e753b493aa95d7...           0\n",
       "1299000  ff4f8244df0510415856574029fe292cb59849bc0b1334...           0\n",
       "1299001  fe79c3058dc562e4fa749d906d5e9896d77754eab075b5...           0\n",
       "1299002  ff45089de47699e0400c84ef0d5c5db4e5d7c15edbd079...           0\n",
       "1299003  fdb151e9681937b808160f7088c34548b1a1971efee068...           1\n",
       "\n",
       "[1299004 rows x 2 columns]"
      ]
     },
     "execution_count": 123,
     "metadata": {},
     "output_type": "execute_result"
    }
   ],
   "source": [
    "pd.read_csv('prediction.csv')"
   ]
  },
  {
   "cell_type": "code",
   "execution_count": 33,
   "id": "2ed66b8b",
   "metadata": {},
   "outputs": [],
   "source": [
    "new_file = pd.DataFrame(columns = ['customer_ID','prediction'])\n",
    "new_file.to_csv('prediction.csv', index = False)"
   ]
  }
 ],
 "metadata": {
  "kernelspec": {
   "display_name": "Python 3 (ipykernel)",
   "language": "python",
   "name": "python3"
  },
  "language_info": {
   "codemirror_mode": {
    "name": "ipython",
    "version": 3
   },
   "file_extension": ".py",
   "mimetype": "text/x-python",
   "name": "python",
   "nbconvert_exporter": "python",
   "pygments_lexer": "ipython3",
   "version": "3.10.5"
  }
 },
 "nbformat": 4,
 "nbformat_minor": 5
}
