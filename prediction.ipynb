{
 "cells": [
  {
   "cell_type": "code",
   "execution_count": 1,
   "id": "17ca9c3b",
   "metadata": {},
   "outputs": [],
   "source": [
    "import pandas as pd\n",
    "import numpy as np\n",
    "from sklearn.model_selection import train_test_split\n",
    "from sklearn.ensemble import GradientBoostingClassifier\n",
    "from sklearn.ensemble import RandomForestClassifier\n",
    "from sklearn.linear_model import LogisticRegression\n",
    "from sklearn.metrics import roc_auc_score \n",
    "import time\n",
    "import csv"
   ]
  },
  {
   "cell_type": "code",
   "execution_count": 2,
   "id": "63851848",
   "metadata": {},
   "outputs": [],
   "source": [
    "def amex_metric(y_true: pd.DataFrame, y_pred: pd.DataFrame) -> float:\n",
    "\n",
    "    def top_four_percent_captured(y_true: pd.DataFrame, y_pred: pd.DataFrame) -> float:\n",
    "        df = (pd.concat([y_true, y_pred], axis='columns')\n",
    "              .sort_values('prediction', ascending=False))\n",
    "        df['weight'] = df['target'].apply(lambda x: 20 if x==0 else 1)\n",
    "        four_pct_cutoff = int(0.04 * df['weight'].sum())\n",
    "        df['weight_cumsum'] = df['weight'].cumsum()\n",
    "        df_cutoff = df.loc[df['weight_cumsum'] <= four_pct_cutoff]\n",
    "        return (df_cutoff['target'] == 1).sum() / (df['target'] == 1).sum()\n",
    "        \n",
    "    def weighted_gini(y_true: pd.DataFrame, y_pred: pd.DataFrame) -> float:\n",
    "        df = (pd.concat([y_true, y_pred], axis='columns')\n",
    "              .sort_values('prediction', ascending=False))\n",
    "        df['weight'] = df['target'].apply(lambda x: 20 if x==0 else 1)\n",
    "        df['random'] = (df['weight'] / df['weight'].sum()).cumsum()\n",
    "        total_pos = (df['target'] * df['weight']).sum()\n",
    "        df['cum_pos_found'] = (df['target'] * df['weight']).cumsum()\n",
    "        df['lorentz'] = df['cum_pos_found'] / total_pos\n",
    "        df['gini'] = (df['lorentz'] - df['random']) * df['weight']\n",
    "        return df['gini'].sum()\n",
    "\n",
    "    def normalized_weighted_gini(y_true: pd.DataFrame, y_pred: pd.DataFrame) -> float:\n",
    "        y_true_pred = y_true.rename(columns={'target': 'prediction'})\n",
    "        return weighted_gini(y_true, y_pred) / weighted_gini(y_true, y_true_pred)\n",
    "\n",
    "    g = normalized_weighted_gini(y_true, y_pred)\n",
    "    d = top_four_percent_captured(y_true, y_pred)\n",
    "\n",
    "    return 0.5 * (g + d)"
   ]
  },
  {
   "cell_type": "code",
   "execution_count": 3,
   "id": "ba6d494d",
   "metadata": {},
   "outputs": [],
   "source": [
    "def level_1_predictor(t_train,y, model):\n",
    "    leng = int(len(t_train)/2)\n",
    "    t_a, t_b= t_train[:leng], t_train[leng:]\n",
    "    tg_a, tg_b = y[:leng], y[leng:]\n",
    "    if model == LogisticRegression:\n",
    "        m1 = model(max_iter = 20**9)\n",
    "        m2 = model(max_iter = 20**9)\n",
    "    else:\n",
    "        m1 = model()\n",
    "        m2 = model()\n",
    "\n",
    "    m1.fit(t_a,tg_a)\n",
    "    tp_b = [i[1] for i in m1.predict_proba(t_b)]\n",
    "    m2.fit(t_b,tg_b)\n",
    "    tp_a = [i[1] for i in m2.predict_proba(t_a)]\n",
    "    tp = [x for x in np.hstack((tp_a,tp_b))]\n",
    "    \n",
    "    return tp"
   ]
  },
  {
   "cell_type": "code",
   "execution_count": 4,
   "id": "72f7cb21",
   "metadata": {},
   "outputs": [],
   "source": [
    "def retrieve_important_feature(s,m):\n",
    "    file = pd.read_csv('important_l1.csv')\n",
    "    feature_name = file.columns\n",
    "    if m=='G':\n",
    "        importance = file.iloc[0]\n",
    "    if m=='L':\n",
    "        importance = file.iloc[1]\n",
    "    itr = 0\n",
    "    important_feature = []\n",
    "    unimportant_feature = []\n",
    "    for x in importance:\n",
    "        if x>s:\n",
    "            important_feature.append(feature_name[itr])\n",
    "        else:\n",
    "            unimportant_feature.append(feature_name[itr])\n",
    "        itr+=1\n",
    "    return important_feature, unimportant_feature"
   ]
  },
  {
   "cell_type": "code",
   "execution_count": 5,
   "id": "d614a319",
   "metadata": {},
   "outputs": [],
   "source": [
    "def categorize_important_feature(important_feature, unimportant_feature):\n",
    "    delinquency=[]\n",
    "    spend = []\n",
    "    payment = []\n",
    "    balance = []\n",
    "    risk = []\n",
    "    std = []\n",
    "    mean = []\n",
    "    _25 = []\n",
    "    _50 = []\n",
    "    _75 = []\n",
    "    _min = []\n",
    "    _max = []\n",
    "\n",
    "    for x in important_feature:\n",
    "        if x[0]=='D':\n",
    "            delinquency.append(x)\n",
    "        if x[0]=='S':\n",
    "            spend.append(x)\n",
    "        if x[0]=='P':\n",
    "            payment.append(x)\n",
    "        if x[0]=='B':\n",
    "            balance.append(x)\n",
    "        if x[0]=='R':\n",
    "            risk.append(x)\n",
    "        if x[-3:]=='std':\n",
    "            std.append(x)\n",
    "        elif x[-3:]=='25%':\n",
    "            _25.append(x)\n",
    "        elif x[-3:]=='75%':\n",
    "            _75.append(x)\n",
    "        elif x[-3:]=='50%':\n",
    "            _50.append(x)\n",
    "        elif x[-3:]=='min':\n",
    "            _min.append(x)\n",
    "        elif x[-3:]=='max':\n",
    "            _max.append(x)\n",
    "        else:\n",
    "            mean.append(x)\n",
    "    if unimportant_feature != None:\n",
    "        feature_sets = {'delinquency':delinquency,'spend':spend,'payment':payment,'balance':balance,'risk':risk,'std':std,\n",
    "                        'mean':mean,'_25':_25,'_50':_50,'_75':_75,'_min':_min,'_max':_max, 'unimportant_fe':unimportant_feature}\n",
    "    else:\n",
    "        feature_sets = {'delinquency':delinquency,'spend':spend,'payment':payment,'balance':balance,'risk':risk,'std':std,\n",
    "                        'mean':mean,'_25':_25,'_50':_50,'_75':_75,'_min':_min,'_max':_max}        \n",
    "    return feature_sets"
   ]
  },
  {
   "cell_type": "code",
   "execution_count": 6,
   "id": "b03b5412",
   "metadata": {},
   "outputs": [],
   "source": [
    "def stacker(feature,np_label,feature_sets,model_dic,m='G'):\n",
    "    column_name = list(feature_sets.keys())\n",
    "    if m=='G':\n",
    "        r = pd.read_csv('l1_stacking_model_G.csv')\n",
    "    if m=='L':\n",
    "        r = pd.read_csv('l1_stacking_model_L.csv')\n",
    "    stack_feature = pd.DataFrame(columns = column_name)\n",
    "    fitted_model = {}\n",
    "    for x in column_name:\n",
    "        best_stacking_model = model_dic[r[x].value_counts().keys()[0]]\n",
    "        if len(feature_sets[x])!=0:\n",
    "            stacking_feature = np.array(feature[feature_sets[x]])\n",
    "            stack_feature[x] = level_1_predictor(stacking_feature,np_label, best_stacking_model)\n",
    "            if best_stacking_model==LogisticRegression:\n",
    "                md = best_stacking_model(max_iter = 20**9)\n",
    "                md.fit(stacking_feature, np_label)\n",
    "                fitted_model[x]=md\n",
    "            else:\n",
    "                md = best_stacking_model()\n",
    "                md.fit(stacking_feature, np_label)\n",
    "                fitted_model[x]=md\n",
    "        else:\n",
    "            stack_feature[x] = [1 for x in range(leng)]\n",
    "            fitted_model[x] = None\n",
    "        print(best_stacking_model.__name__[0], end = ' ')\n",
    "    return stack_feature, fitted_model"
   ]
  },
  {
   "cell_type": "code",
   "execution_count": 7,
   "id": "7d727bc5",
   "metadata": {},
   "outputs": [],
   "source": [
    "def stacker_for_testSet(feature,feature_sets,fitted_models_l1):\n",
    "    column_name = list(feature_sets.keys())\n",
    "    stack_feature = pd.DataFrame(columns = column_name)\n",
    "    leng = len(feature)\n",
    "    for x in column_name:\n",
    "        if len(feature_sets[x])!=0:\n",
    "            i = np.array(feature[feature_sets[x]])\n",
    "            stack_feature[x] = [x[1] for x in fitted_models_l1[x].predict_proba(i)]\n",
    "        else:\n",
    "            stack_feature[x] = [1. for x in range(leng)]\n",
    "    return stack_feature"
   ]
  },
  {
   "cell_type": "code",
   "execution_count": 8,
   "id": "3f863d9d",
   "metadata": {},
   "outputs": [],
   "source": [
    "class amex_default_prediction:\n",
    "    # unimpt_l1 is the parameter to control if I add all unimpt feature as a another stacking feature \n",
    "    # impt_l2 is the parameter to control if I add impt features for the final prediction, \n",
    "    #'n' means I only used the stacking feature.\n",
    "    def __init__(self,n, unimpt_l1, impt_l2, std):\n",
    "        self._feature_importance = pd.read_csv('important_l1.csv')\n",
    "        self._feature_name = self._feature_importance.columns\n",
    "        self._impt_fe, self._unimpt_fe= retrieve_important_feature(n,'G')\n",
    "        self._impt_fe_train = None\n",
    "        self._std = std\n",
    "        self._impt_l2 = impt_l2\n",
    "        if unimpt_l1 == 'y':\n",
    "            self._feature_sets = categorize_important_feature(self._impt_fe, self._unimpt_fe)\n",
    "        else:\n",
    "            self._feature_sets = categorize_important_feature(self._impt_fe, None)\n",
    "        self._models = [LogisticRegression,GradientBoostingClassifier,RandomForestClassifier]\n",
    "        self._model_dic = {}\n",
    "        for x in self._models:\n",
    "            self._model_dic[x.__name__] = x\n",
    "        self._train_l1 = None\n",
    "        self._feature_l2 = None\n",
    "        self._label = None\n",
    "        self._stacking_train = None\n",
    "        self._fitted_models_l1 = None\n",
    "        self._fitted_model_l2 = None\n",
    "        self._test_l1 = None\n",
    "        self._test_l2 = None\n",
    "        self._stacked_test = None\n",
    "        self._prediction = None\n",
    "    def fillNa(self, data):\n",
    "        feature = data\n",
    "        for x in data.columns:\n",
    "            feature[x]=feature[x].fillna(feature[x].mean())\n",
    "        return feature\n",
    "    def fit(self, train, label, model):\n",
    "        self._train_l1 = self.fillNa(train)\n",
    "        if self._std == True:\n",
    "            self._train_l1 = stder(self._train_l1)\n",
    "        self._label = np.array(label).T\n",
    "        self._stacking_train, self._fitted_models_l1 = stacker(self._train_l1,self._label,self._feature_sets, self._model_dic)\n",
    "        if self._impt_l2 =='y':         \n",
    "            self._impt_fe_train = self._train_l1[self._impt_fe]\n",
    "            self._train_l2 = pd.concat([self._impt_fe_train,self._stacking_train], axis = 1)        \n",
    "            self._fitted_model_l2 = model()\n",
    "            self._fitted_model_l2.fit(self._train_l2, self._label)\n",
    "        else:\n",
    "            self._train_l2 = self._stacking_train\n",
    "            self._fitted_model_l2 = model()\n",
    "            self._fitted_model_l2.fit(self._train_l2, self._label)\n",
    "    def predict_proba(self, test):\n",
    "        self._test_l1 = self.fillNa(test)\n",
    "        if self._std == 'y':\n",
    "            self._test_l1 = stder(self._test_l1)\n",
    "        self._stacked_test = stacker_for_testSet(self._test_l1,self._feature_sets,self._fitted_models_l1)\n",
    "        if self._impt_l2 == 'y':            \n",
    "            self._impt_fe_test = self._test_l1[self._impt_fe]\n",
    "            self._test_l2 = pd.concat([self._impt_fe_test,self._stacked_test], axis = 1)\n",
    "            self._prediction = self._fitted_model_l2.predict_proba(self._test_l2)[:,1]\n",
    "        else:\n",
    "            self._test_l2 = self._stacked_test\n",
    "            self._prediction = self._fitted_model_l2.predict_proba(self._test_l2)[:,1]\n",
    "        return self._prediction "
   ]
  },
  {
   "cell_type": "code",
   "execution_count": 9,
   "id": "3196477b",
   "metadata": {},
   "outputs": [],
   "source": [
    "def default_rate_captured(label, prediction):\n",
    "    df = pd.DataFrame(columns = ['label', 'prediction'])\n",
    "    df['label'] = label\n",
    "    df['prediction'] = prediction\n",
    "    numb_of_default = df.loc[df['label']==1]\n",
    "    default_caught = numb_of_default.loc[numb_of_default['prediction']>0.5]\n",
    "    return default_caught.shape[0]/numb_of_default.shape[0]\n",
    "def gini(list_of_values):\n",
    "    sorted_list = sorted(list(list_of_values))\n",
    "    height, area = 0, 0\n",
    "    for value in sorted_list:\n",
    "        height += value\n",
    "        area += height - value / 2.\n",
    "    fair_area = height * len(list_of_values) / 2\n",
    "    return (fair_area - area) / fair_area\n",
    "def normalized_gini(y,y_pred):\n",
    "    normalized_gini = gini(y_pred)/gini(y)\n",
    "    return normalized_gini\n",
    "def M(label, prediction):\n",
    "    return (normalized_gini(label,prediction)+default_rate_captured(label, prediction))/2"
   ]
  },
  {
   "cell_type": "code",
   "execution_count": 10,
   "id": "54f58b7d",
   "metadata": {},
   "outputs": [],
   "source": [
    "from sklearn.preprocessing import StandardScaler\n",
    "def stder(X):\n",
    "    cols = X.columns\n",
    "    stder = StandardScaler(copy=True, with_mean = True, with_std = True)\n",
    "    stder.fit(X)\n",
    "    return pd.DataFrame(stder.transform(X), columns = cols)"
   ]
  },
  {
   "cell_type": "code",
   "execution_count": 11,
   "id": "95404383",
   "metadata": {},
   "outputs": [],
   "source": [
    "def get_data(a,b,n):\n",
    "    shuffled_indices = np.random.permutation([x for x in range(a,b)])\n",
    "    file = []\n",
    "    for x in shuffled_indices[:n]:\n",
    "        file.append(pd.read_csv(r'C:\\Users\\johnk\\OneDrive\\Desktop\\project\\python project\\kaggle\\amex-default-prediction\\new_train\\train_{0}.csv'.format(x)))\n",
    "    data_set = pd.concat(file, axis = 0)\n",
    "    data_set.index = [x for x in range(data_set.shape[0])]\n",
    "    feature = data_set.iloc[:, 1:-1]\n",
    "    label = data_set['target']\n",
    "    return feature, label"
   ]
  },
  {
   "cell_type": "code",
   "execution_count": 12,
   "id": "5dbc11c4",
   "metadata": {},
   "outputs": [],
   "source": [
    "def get_balanced_data(a,b,n):\n",
    "    shuffled_indices_0 = np.random.permutation([x for x in range(a,b)])\n",
    "    file = []\n",
    "    for x in shuffled_indices_0[:n]:\n",
    "        file.append(pd.read_csv(r'C:\\Users\\johnk\\OneDrive\\Desktop\\project\\python project\\kaggle\\amex-default-prediction\\new_train\\train_{0}.csv'.format(x)))\n",
    "    data_set = pd.concat(file, axis = 0)\n",
    "    data_set.index = [x for x in range(data_set.shape[0])]\n",
    "    defualted = data_set.loc[data_set['target']==1]\n",
    "    undefualted = data_set.loc[data_set['target']==0]\n",
    "    shuffled_indices_1 = np.random.permutation(undefualted.shape[0])[:defualted.shape[0]]\n",
    "    pick_undefualted = undefualted.iloc[shuffled_indices_1]\n",
    "    temp = pd.concat([defualted, pick_undefualted], axis = 0)\n",
    "    shuffled_indices_2 = np.random.permutation(temp.shape[0])\n",
    "    df = temp.iloc[shuffled_indices_2]\n",
    "    df.index = [x for x in range(len(df))]\n",
    "    feature = df.iloc[:,1:-1]\n",
    "    label = df['target']\n",
    "    return feature, label"
   ]
  },
  {
   "cell_type": "code",
   "execution_count": 13,
   "id": "ba89422a",
   "metadata": {},
   "outputs": [],
   "source": [
    "def record(bc, unimpt_l1, impt_l2,std, fe_impt,flz, score):\n",
    "    rd = pd.read_csv('record.csv')\n",
    "    i = pd.DataFrame([bc, unimpt_l1, impt_l2,std, fe_impt,flz, score]).T\n",
    "    i.columns = ['balanced', 'unimpt_l1','impt_l2','std','feature_importance','file_size', 'score']\n",
    "    C = False\n",
    "    b = ''\n",
    "    for I in np.array(i.iloc[0,:-2]):\n",
    "        b+=str(I)\n",
    "    for x in range(len(rd)):\n",
    "        a = ''\n",
    "        for R in np.array(rd.iloc[x,:-2]):\n",
    "            a+=str(R)\n",
    "        if a==b:\n",
    "            C = True\n",
    "            rd.loc[x,'score']=0.5*(rd.loc[x,'score']+score) \n",
    "            rd.to_csv('record.csv', index = False)\n",
    "    if C==False:\n",
    "        out = pd.concat([rd, i], axis = 0)\n",
    "        out.to_csv('record.csv', index = False)"
   ]
  },
  {
   "cell_type": "code",
   "execution_count": 14,
   "id": "dff97910",
   "metadata": {},
   "outputs": [],
   "source": [
    "def zero_mean(data):\n",
    "    for x in data.columns:\n",
    "        m = data[x].mean()\n",
    "        data[x] = data[x]-m\n",
    "    return data"
   ]
  },
  {
   "cell_type": "markdown",
   "id": "0ad26e46",
   "metadata": {},
   "source": [
    "### test"
   ]
  },
  {
   "cell_type": "markdown",
   "id": "c666532d",
   "metadata": {},
   "source": [
    "start_tn = 1\n",
    "end_tn = 21\n",
    "choose_tn = 5\n",
    "training_feature, training_label = get_data(start_tn, end_tn, choose_tn)\n",
    "training_feature_std = stder(training_feature)"
   ]
  },
  {
   "cell_type": "code",
   "execution_count": 24,
   "id": "046cd988",
   "metadata": {},
   "outputs": [],
   "source": [
    "start_tn, end_tn= 1, 21\n",
    "choose_tn = 10\n",
    "training_feature, training_label = get_balanced_data(start_tn, end_tn, choose_tn)\n",
    "training_feature = zero_mean(training_feature)"
   ]
  },
  {
   "cell_type": "code",
   "execution_count": 27,
   "id": "12341b6d",
   "metadata": {},
   "outputs": [],
   "source": [
    "start_tt, end_tt= 21, 51\n",
    "choose_tt = 15\n",
    "test_feature, test_label = get_data(start_tt, end_tt, choose_tt)\n",
    "test_feature = zero_mean(test_feature)"
   ]
  },
  {
   "cell_type": "code",
   "execution_count": 21,
   "id": "84826bf9",
   "metadata": {},
   "outputs": [
    {
     "data": {
      "text/plain": [
       "9.634477773018307e-17"
      ]
     },
     "execution_count": 21,
     "metadata": {},
     "output_type": "execute_result"
    }
   ],
   "source": [
    "(training_feature_B[training_feature_B.columns[0]]-training_feature_B[training_feature_B.columns[0]].mean()).mean()"
   ]
  },
  {
   "cell_type": "markdown",
   "id": "e3d67b82",
   "metadata": {},
   "source": [
    "#### feature importance "
   ]
  },
  {
   "cell_type": "code",
   "execution_count": 28,
   "id": "52e7d734",
   "metadata": {},
   "outputs": [
    {
     "name": "stdout",
     "output_type": "stream",
     "text": [
      "G R L G R G L G G L G L "
     ]
    },
    {
     "ename": "NameError",
     "evalue": "name 'amex_metric' is not defined",
     "output_type": "error",
     "traceback": [
      "\u001b[1;31m---------------------------------------------------------------------------\u001b[0m",
      "\u001b[1;31mNameError\u001b[0m                                 Traceback (most recent call last)",
      "Input \u001b[1;32mIn [28]\u001b[0m, in \u001b[0;36m<module>\u001b[1;34m\u001b[0m\n\u001b[0;32m      3\u001b[0m ame\u001b[38;5;241m.\u001b[39mfit(training_feature, training_label, GradientBoostingClassifier)\n\u001b[0;32m      4\u001b[0m prediction \u001b[38;5;241m=\u001b[39m ame\u001b[38;5;241m.\u001b[39mpredict_proba(test_feature)\n\u001b[1;32m----> 5\u001b[0m score1 \u001b[38;5;241m=\u001b[39m \u001b[43mamex_metric\u001b[49m(test_label,  pd\u001b[38;5;241m.\u001b[39mDataFrame(prediction, columns\u001b[38;5;241m=\u001b[39m [\u001b[38;5;124m'\u001b[39m\u001b[38;5;124mprediction\u001b[39m\u001b[38;5;124m'\u001b[39m]))\n",
      "\u001b[1;31mNameError\u001b[0m: name 'amex_metric' is not defined"
     ]
    }
   ],
   "source": [
    "data_balanced, unimpt_l1, impt_l2, std = 'y','n','n','n'\n",
    "ame = amex_default_prediction(10,unimpt_l1, impt_l2, std)\n",
    "ame.fit(training_feature, training_label, GradientBoostingClassifier)\n",
    "prediction = ame.predict_proba(test_feature)\n",
    "score1 = amex_metric(test_label,  pd.DataFrame(prediction, columns= ['prediction']))"
   ]
  },
  {
   "cell_type": "code",
   "execution_count": 32,
   "id": "b5305204",
   "metadata": {},
   "outputs": [],
   "source": [
    "score1 = amex_metric(pd.DataFrame(test_label),  pd.DataFrame(prediction, columns= ['prediction']))"
   ]
  },
  {
   "cell_type": "code",
   "execution_count": 33,
   "id": "9f2d3cac",
   "metadata": {},
   "outputs": [
    {
     "data": {
      "text/plain": [
       "0.735614288262392"
      ]
     },
     "execution_count": 33,
     "metadata": {},
     "output_type": "execute_result"
    }
   ],
   "source": [
    "score1"
   ]
  },
  {
   "cell_type": "code",
   "execution_count": 34,
   "id": "cbcba440",
   "metadata": {
    "scrolled": true
   },
   "outputs": [
    {
     "name": "stdout",
     "output_type": "stream",
     "text": [
      "G R L G R G L G G L G L 0 0.6236209036887282 6383.467397928238\n",
      "G R L G R G L G G L G L 10 0.6408313532065635 7768.9975526332855\n",
      "G R L G R G L G G L G L 20 0.6628432474365336 5409.229932308197\n",
      "G R L G R G L G G L G L 30 0.6119195651577155 3049.318484067917\n",
      "G R L G R G L G G L G L 40 0.6650684758781171 2511.714039325714\n",
      "G "
     ]
    },
    {
     "ename": "NameError",
     "evalue": "name 'leng' is not defined",
     "output_type": "error",
     "traceback": [
      "\u001b[1;31m---------------------------------------------------------------------------\u001b[0m",
      "\u001b[1;31mNameError\u001b[0m                                 Traceback (most recent call last)",
      "Input \u001b[1;32mIn [34]\u001b[0m, in \u001b[0;36m<module>\u001b[1;34m\u001b[0m\n\u001b[0;32m      4\u001b[0m start_time \u001b[38;5;241m=\u001b[39m time\u001b[38;5;241m.\u001b[39mtime()\n\u001b[0;32m      5\u001b[0m ame \u001b[38;5;241m=\u001b[39m amex_default_prediction(x,unimpt_l1, impt_l2, std)\n\u001b[1;32m----> 6\u001b[0m \u001b[43mame\u001b[49m\u001b[38;5;241;43m.\u001b[39;49m\u001b[43mfit\u001b[49m\u001b[43m(\u001b[49m\u001b[43mtraining_feature_B\u001b[49m\u001b[43m,\u001b[49m\u001b[43m \u001b[49m\u001b[43mtraining_label_B\u001b[49m\u001b[43m,\u001b[49m\u001b[43m \u001b[49m\u001b[43mGradientBoostingClassifier\u001b[49m\u001b[43m)\u001b[49m\n\u001b[0;32m      7\u001b[0m prediction1 \u001b[38;5;241m=\u001b[39m ame\u001b[38;5;241m.\u001b[39mpredict_proba(test_feature)\n\u001b[0;32m      8\u001b[0m score1 \u001b[38;5;241m=\u001b[39m M(test_label, prediction1)\n",
      "Input \u001b[1;32mIn [8]\u001b[0m, in \u001b[0;36mamex_default_prediction.fit\u001b[1;34m(self, train, label, model)\u001b[0m\n\u001b[0;32m     38\u001b[0m     \u001b[38;5;28mself\u001b[39m\u001b[38;5;241m.\u001b[39m_train_l1 \u001b[38;5;241m=\u001b[39m stder(\u001b[38;5;28mself\u001b[39m\u001b[38;5;241m.\u001b[39m_train_l1)\n\u001b[0;32m     39\u001b[0m \u001b[38;5;28mself\u001b[39m\u001b[38;5;241m.\u001b[39m_label \u001b[38;5;241m=\u001b[39m np\u001b[38;5;241m.\u001b[39marray(label)\u001b[38;5;241m.\u001b[39mT\n\u001b[1;32m---> 40\u001b[0m \u001b[38;5;28mself\u001b[39m\u001b[38;5;241m.\u001b[39m_stacking_train, \u001b[38;5;28mself\u001b[39m\u001b[38;5;241m.\u001b[39m_fitted_models_l1 \u001b[38;5;241m=\u001b[39m \u001b[43mstacker\u001b[49m\u001b[43m(\u001b[49m\u001b[38;5;28;43mself\u001b[39;49m\u001b[38;5;241;43m.\u001b[39;49m\u001b[43m_train_l1\u001b[49m\u001b[43m,\u001b[49m\u001b[38;5;28;43mself\u001b[39;49m\u001b[38;5;241;43m.\u001b[39;49m\u001b[43m_label\u001b[49m\u001b[43m,\u001b[49m\u001b[38;5;28;43mself\u001b[39;49m\u001b[38;5;241;43m.\u001b[39;49m\u001b[43m_feature_sets\u001b[49m\u001b[43m,\u001b[49m\u001b[43m \u001b[49m\u001b[38;5;28;43mself\u001b[39;49m\u001b[38;5;241;43m.\u001b[39;49m\u001b[43m_model_dic\u001b[49m\u001b[43m)\u001b[49m\n\u001b[0;32m     41\u001b[0m \u001b[38;5;28;01mif\u001b[39;00m \u001b[38;5;28mself\u001b[39m\u001b[38;5;241m.\u001b[39m_impt_l2 \u001b[38;5;241m==\u001b[39m\u001b[38;5;124m'\u001b[39m\u001b[38;5;124my\u001b[39m\u001b[38;5;124m'\u001b[39m:         \n\u001b[0;32m     42\u001b[0m     \u001b[38;5;28mself\u001b[39m\u001b[38;5;241m.\u001b[39m_impt_fe_train \u001b[38;5;241m=\u001b[39m \u001b[38;5;28mself\u001b[39m\u001b[38;5;241m.\u001b[39m_train_l1[\u001b[38;5;28mself\u001b[39m\u001b[38;5;241m.\u001b[39m_impt_fe]\n",
      "Input \u001b[1;32mIn [6]\u001b[0m, in \u001b[0;36mstacker\u001b[1;34m(feature, np_label, feature_sets, model_dic, m)\u001b[0m\n\u001b[0;32m     21\u001b[0m         fitted_model[x]\u001b[38;5;241m=\u001b[39mmd\n\u001b[0;32m     22\u001b[0m \u001b[38;5;28;01melse\u001b[39;00m:\n\u001b[1;32m---> 23\u001b[0m     stack_feature[x] \u001b[38;5;241m=\u001b[39m [\u001b[38;5;241m1\u001b[39m \u001b[38;5;28;01mfor\u001b[39;00m x \u001b[38;5;129;01min\u001b[39;00m \u001b[38;5;28mrange\u001b[39m(\u001b[43mleng\u001b[49m)]\n\u001b[0;32m     24\u001b[0m     fitted_model[x] \u001b[38;5;241m=\u001b[39m \u001b[38;5;28;01mNone\u001b[39;00m\n\u001b[0;32m     25\u001b[0m \u001b[38;5;28mprint\u001b[39m(best_stacking_model\u001b[38;5;241m.\u001b[39m\u001b[38;5;18m__name__\u001b[39m[\u001b[38;5;241m0\u001b[39m], end \u001b[38;5;241m=\u001b[39m \u001b[38;5;124m'\u001b[39m\u001b[38;5;124m \u001b[39m\u001b[38;5;124m'\u001b[39m)\n",
      "\u001b[1;31mNameError\u001b[0m: name 'leng' is not defined"
     ]
    }
   ],
   "source": [
    "start_time = time.time()\n",
    "data_balanced, unimpt_l1, impt_l2, std = 'y','n','n','n'\n",
    "for x in [0,10,20,30,40,50]:\n",
    "    start_time = time.time()\n",
    "    ame = amex_default_prediction(x,unimpt_l1, impt_l2, std)\n",
    "    ame.fit(training_feature_B, training_label_B, GradientBoostingClassifier)\n",
    "    prediction1 = ame.predict_proba(test_feature)\n",
    "    score1 = M(test_label, prediction1)\n",
    "    record(data_balanced,unimpt_l1, impt_l2, std,x,choose_tn,score1)\n",
    "    print(x, score1,time.time()-start_time)"
   ]
  },
  {
   "cell_type": "code",
   "execution_count": null,
   "id": "da2ab755",
   "metadata": {
    "scrolled": true
   },
   "outputs": [],
   "source": [
    "start_time = time.time()\n",
    "data_balanced, unimpt_l1, impt_l2, std = 'y','y','n','n'\n",
    "for x in [0,10,20,30,40,50]:\n",
    "    start_time = time.time()\n",
    "    ame = amex_default_prediction(x,unimpt_l1, impt_l2, std)\n",
    "    ame.fit(training_feature_B, training_label_B, GradientBoostingClassifier)\n",
    "    prediction1 = ame.predict_proba(test_feature)\n",
    "    score1 = M(test_label, prediction1)\n",
    "    record(data_balanced,unimpt_l1, impt_l2, std,x,choose_tn,score1)\n",
    "    print(x, score1,time.time()-start_time)"
   ]
  },
  {
   "cell_type": "code",
   "execution_count": null,
   "id": "c2a4752d",
   "metadata": {},
   "outputs": [],
   "source": [
    "start_time = time.time()\n",
    "data_balanced, unimpt_l1, impt_l2, std = 'y','n','y','n'\n",
    "for x in [0,10,20,30,40,50]:\n",
    "    start_time = time.time()\n",
    "    ame = amex_default_prediction(x,unimpt_l1, impt_l2, std)\n",
    "    ame.fit(training_feature_B, training_label_B, GradientBoostingClassifier)\n",
    "    prediction1 = ame.predict_proba(test_feature)\n",
    "    score1 = M(test_label, prediction1)\n",
    "    record(data_balanced,unimpt_l1, impt_l2, std,x,choose_tn,score1)\n",
    "    print(x, score1,time.time()-start_time)"
   ]
  },
  {
   "cell_type": "markdown",
   "id": "d1a92a1f",
   "metadata": {},
   "source": [
    "### predict"
   ]
  },
  {
   "cell_type": "code",
   "execution_count": null,
   "id": "5556195c",
   "metadata": {},
   "outputs": [],
   "source": [
    "training_feature, training_label = get_balanced_data(0,40,40)\n",
    "training_feature_std = stder(training_feature)"
   ]
  },
  {
   "cell_type": "code",
   "execution_count": null,
   "id": "65cbe1e1",
   "metadata": {},
   "outputs": [],
   "source": [
    "ame = amex_default_prediction(10,'y','n', 'n')\n",
    "ame.fit(training_feature, training_label,GradientBoostingClassifier)"
   ]
  },
  {
   "cell_type": "code",
   "execution_count": null,
   "id": "cd5be7eb",
   "metadata": {},
   "outputs": [],
   "source": [
    "f = pd.DataFrame(columns = ['customer_ID','prediction'])\n",
    "f.to_csv('prediction.csv', index = False)\n",
    "for x in range(0,57):\n",
    "    df_test = pd.read_csv(r'C:\\Users\\johnk\\OneDrive\\Desktop\\project\\python project\\kaggle\\amex-default-prediction\\transformed_test\\test_{0}.csv'.format(x))\n",
    "    feature = df_test.iloc[:,1:]\n",
    "    customer_id = df_test['customer_ID']\n",
    "    prediction = ame.predict_proba(feature)\n",
    "    output = pd.DataFrame(columns = ['customer_ID','prediction'])\n",
    "    output['customer_ID'] = customer_ida\n",
    "    output['prediction'] = prediction\n",
    "    old_file = pd.read_csv('prediction.csv')\n",
    "    new_file = pd.concat([old_file,output], axis = 0)\n",
    "    new_file.to_csv('prediction.csv', index = False)\n",
    "    print(x, end= ' ')"
   ]
  },
  {
   "cell_type": "code",
   "execution_count": null,
   "id": "03b579c8",
   "metadata": {},
   "outputs": [],
   "source": [
    "i = new_file.drop_duplicates(subset='customer_ID')"
   ]
  },
  {
   "cell_type": "code",
   "execution_count": null,
   "id": "91ffb6b0",
   "metadata": {},
   "outputs": [],
   "source": [
    "i.to_csv('prediction.csv', index = False)"
   ]
  },
  {
   "cell_type": "code",
   "execution_count": null,
   "id": "aafe4dc5",
   "metadata": {},
   "outputs": [],
   "source": [
    "i"
   ]
  },
  {
   "cell_type": "code",
   "execution_count": null,
   "id": "2ed66b8b",
   "metadata": {},
   "outputs": [],
   "source": [
    "new_file = pd.DataFrame(columns = ['customer_ID','prediction'])\n",
    "new_file.to_csv('prediction.csv', index = False)"
   ]
  },
  {
   "cell_type": "code",
   "execution_count": null,
   "id": "1df31b2e",
   "metadata": {},
   "outputs": [],
   "source": [
    "i['prediction'].value_counts()"
   ]
  }
 ],
 "metadata": {
  "kernelspec": {
   "display_name": "Python 3 (ipykernel)",
   "language": "python",
   "name": "python3"
  },
  "language_info": {
   "codemirror_mode": {
    "name": "ipython",
    "version": 3
   },
   "file_extension": ".py",
   "mimetype": "text/x-python",
   "name": "python",
   "nbconvert_exporter": "python",
   "pygments_lexer": "ipython3",
   "version": "3.10.5"
  }
 },
 "nbformat": 4,
 "nbformat_minor": 5
}
